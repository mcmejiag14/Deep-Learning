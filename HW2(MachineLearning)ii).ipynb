{
  "nbformat": 4,
  "nbformat_minor": 0,
  "metadata": {
    "colab": {
      "provenance": [],
      "authorship_tag": "ABX9TyNowjyk/muW+Q06TV0AEcDw",
      "include_colab_link": true
    },
    "kernelspec": {
      "name": "python3",
      "display_name": "Python 3"
    },
    "language_info": {
      "name": "python"
    }
  },
  "cells": [
    {
      "cell_type": "markdown",
      "metadata": {
        "id": "view-in-github",
        "colab_type": "text"
      },
      "source": [
        "<a href=\"https://colab.research.google.com/github/mcmejiag14/Deep-Learning/blob/main/HW2(MachineLearning)ii).ipynb\" target=\"_parent\"><img src=\"https://colab.research.google.com/assets/colab-badge.svg\" alt=\"Open In Colab\"/></a>"
      ]
    },
    {
      "cell_type": "code",
      "execution_count": 1,
      "metadata": {
        "id": "TRz1HRVJ-4kU"
      },
      "outputs": [],
      "source": [
        "import numpy as np\n",
        "import pandas as pd\n",
        "import statsmodels.api as sm"
      ]
    },
    {
      "cell_type": "code",
      "source": [
        "# Define the training data\n",
        "data = np.array([[1, 3],\n",
        "                [-1, -2],\n",
        "                [2, 4]])\n",
        "\n",
        "# Print the matrix 'tab'\n",
        "print(data)"
      ],
      "metadata": {
        "colab": {
          "base_uri": "https://localhost:8080/"
        },
        "id": "6AW5tP7wBuKt",
        "outputId": "2c4ef347-6349-4e9e-ce49-dcb3ed1c5f16"
      },
      "execution_count": 2,
      "outputs": [
        {
          "output_type": "stream",
          "name": "stdout",
          "text": [
            "[[ 1  3]\n",
            " [-1 -2]\n",
            " [ 2  4]]\n"
          ]
        }
      ]
    },
    {
      "cell_type": "code",
      "source": [
        "rownames = [\"1\", \"2\", \"3\"]\n",
        "colnames = [\"x\", \"t\"]\n",
        "\n",
        "Data1 = pd.DataFrame(data, index=rownames, columns=colnames)\n",
        "\n",
        "print(Data1)"
      ],
      "metadata": {
        "colab": {
          "base_uri": "https://localhost:8080/"
        },
        "id": "nY9efpc4BIli",
        "outputId": "f08bf8e4-edde-4614-c5b7-df17f84a3a1a"
      },
      "execution_count": 3,
      "outputs": [
        {
          "output_type": "stream",
          "name": "stdout",
          "text": [
            "   x  t\n",
            "1  1  3\n",
            "2 -1 -2\n",
            "3  2  4\n"
          ]
        }
      ]
    },
    {
      "cell_type": "code",
      "source": [
        "# Create a linear regression model\n",
        "X = Data1['x']\n",
        "y = Data1['t']\n",
        "model = sm.OLS(y, X).fit()\n",
        "\n",
        "# Print the model summary\n",
        "print(model.summary())"
      ],
      "metadata": {
        "colab": {
          "base_uri": "https://localhost:8080/"
        },
        "id": "2ZiiqK_JDD0o",
        "outputId": "1ef67d75-842d-4ae7-9636-5c7325bfb64c"
      },
      "execution_count": 4,
      "outputs": [
        {
          "output_type": "stream",
          "name": "stdout",
          "text": [
            "                                 OLS Regression Results                                \n",
            "=======================================================================================\n",
            "Dep. Variable:                      t   R-squared (uncentered):                   0.971\n",
            "Model:                            OLS   Adj. R-squared (uncentered):              0.957\n",
            "Method:                 Least Squares   F-statistic:                              67.60\n",
            "Date:                Thu, 05 Oct 2023   Prob (F-statistic):                      0.0145\n",
            "Time:                        01:47:45   Log-Likelihood:                         -2.3354\n",
            "No. Observations:                   3   AIC:                                      6.671\n",
            "Df Residuals:                       2   BIC:                                      5.769\n",
            "Df Model:                           1                                                  \n",
            "Covariance Type:            nonrobust                                                  \n",
            "==============================================================================\n",
            "                 coef    std err          t      P>|t|      [0.025      0.975]\n",
            "------------------------------------------------------------------------------\n",
            "x              2.1667      0.264      8.222      0.014       1.033       3.301\n",
            "==============================================================================\n",
            "Omnibus:                          nan   Durbin-Watson:                   0.833\n",
            "Prob(Omnibus):                    nan   Jarque-Bera (JB):                0.296\n",
            "Skew:                           0.173   Prob(JB):                        0.862\n",
            "Kurtosis:                       1.500   Cond. No.                         1.00\n",
            "==============================================================================\n",
            "\n",
            "Notes:\n",
            "[1] R² is computed without centering (uncentered) since the model does not contain a constant.\n",
            "[2] Standard Errors assume that the covariance matrix of the errors is correctly specified.\n"
          ]
        },
        {
          "output_type": "stream",
          "name": "stderr",
          "text": [
            "/usr/local/lib/python3.10/dist-packages/statsmodels/stats/stattools.py:74: ValueWarning: omni_normtest is not valid with less than 8 observations; 3 samples were given.\n",
            "  warn(\"omni_normtest is not valid with less than 8 observations; %i \"\n"
          ]
        }
      ]
    }
  ]
}