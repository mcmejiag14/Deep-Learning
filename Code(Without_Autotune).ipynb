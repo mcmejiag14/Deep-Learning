{
  "nbformat": 4,
  "nbformat_minor": 0,
  "metadata": {
    "colab": {
      "provenance": [],
      "authorship_tag": "ABX9TyMseMViG/QUMXCpd3NFWLz9",
      "include_colab_link": true
    },
    "kernelspec": {
      "name": "python3",
      "display_name": "Python 3"
    },
    "language_info": {
      "name": "python"
    }
  },
  "cells": [
    {
      "cell_type": "markdown",
      "metadata": {
        "id": "view-in-github",
        "colab_type": "text"
      },
      "source": [
        "<a href=\"https://colab.research.google.com/github/mcmejiag14/Deep-Learning/blob/main/Code(Without_Autotune).ipynb\" target=\"_parent\"><img src=\"https://colab.research.google.com/assets/colab-badge.svg\" alt=\"Open In Colab\"/></a>"
      ]
    },
    {
      "cell_type": "markdown",
      "source": [
        "## **Convolutional Neural Networks for a gene DataSet**"
      ],
      "metadata": {
        "id": "1BaF_cPGRVzj"
      }
    },
    {
      "cell_type": "markdown",
      "source": [
        "First we import all the packages needed. We import Numpy,ensorFlow, and Keras. We import pathlib to could read the data and matplotlib to could do plots. "
      ],
      "metadata": {
        "id": "GUq9e-IlRg3S"
      }
    },
    {
      "cell_type": "code",
      "execution_count": 1,
      "metadata": {
        "id": "2Qk-Io61RG-n"
      },
      "outputs": [],
      "source": [
        "import numpy as np \n",
        "import tensorflow as tf \n",
        "from tensorflow.keras import layers \n",
        "from tensorflow.keras.callbacks import EarlyStopping \n",
        "import pathlib \n",
        "import matplotlib.pyplot as plt "
      ]
    },
    {
      "cell_type": "markdown",
      "source": [
        "Now, we are going to connect google drive with the document to could read the data easily."
      ],
      "metadata": {
        "id": "cEEd1LcNTKr1"
      }
    },
    {
      "cell_type": "code",
      "source": [
        "from google.colab import drive\n",
        "drive.mount('/content/drive')"
      ],
      "metadata": {
        "colab": {
          "base_uri": "https://localhost:8080/"
        },
        "id": "g1Frc11hRQJ4",
        "outputId": "b9a36388-8e98-4d14-8399-a13809764e6c"
      },
      "execution_count": 3,
      "outputs": [
        {
          "output_type": "stream",
          "name": "stdout",
          "text": [
            "Drive already mounted at /content/drive; to attempt to forcibly remount, call drive.mount(\"/content/drive\", force_remount=True).\n"
          ]
        }
      ]
    },
    {
      "cell_type": "markdown",
      "source": [
        "Now, we import the Data. The data set consist of images of ITFI3 genes, which is divided in four classes, Control, Tat+ cART, cART, and Tat+10."
      ],
      "metadata": {
        "id": "-ssSy9KQTrLQ"
      }
    },
    {
      "cell_type": "code",
      "source": [
        "data_dir = '/content/drive/MyDrive/Data 2' \n",
        "data_dir = pathlib.Path(data_dir) "
      ],
      "metadata": {
        "id": "SAw7MJTIUHQV"
      },
      "execution_count": 4,
      "outputs": []
    },
    {
      "cell_type": "markdown",
      "source": [
        "Then, we are going to train the model. We are going to choose 10% for Validation and 90% for Training.\n",
        "\n",
        "This part of the code creates the training through the function tf.keras.preprocessing.image_dataset_from_directory. Then choosing the parameters, we specify the size of the images, in this case will be 256x256 pixels and also the batch size which we choose to be 128.\n",
        "\n"
      ],
      "metadata": {
        "id": "KAeGI4uOURZg"
      }
    },
    {
      "cell_type": "code",
      "source": [
        "trainmodel = tf.keras.preprocessing.image_dataset_from_directory(data_dir, \n",
        "    validation_split=0.1, \n",
        "    subset=\"training\",  \n",
        "    seed=123, image_size=(256, 256), \n",
        "    batch_size=128) "
      ],
      "metadata": {
        "colab": {
          "base_uri": "https://localhost:8080/"
        },
        "id": "KE3k_8DuVAwc",
        "outputId": "059317cb-2b48-40d3-e903-7246dfdd7269"
      },
      "execution_count": 11,
      "outputs": [
        {
          "output_type": "stream",
          "name": "stdout",
          "text": [
            "Found 18 files belonging to 4 classes.\n",
            "Using 17 files for training.\n"
          ]
        }
      ]
    },
    {
      "cell_type": "markdown",
      "source": [
        "Now, we define the variable called validation. We use the same parameters as before."
      ],
      "metadata": {
        "id": "2cxeVtWhVVwk"
      }
    },
    {
      "cell_type": "code",
      "source": [
        "valmodel = tf.keras.preprocessing.image_dataset_from_directory(data_dir, \n",
        "     validation_split=0.1, \n",
        "     subset=\"validation\", \n",
        "     seed=123, \n",
        "     image_size=(256, 256), \n",
        "     batch_size=128)"
      ],
      "metadata": {
        "colab": {
          "base_uri": "https://localhost:8080/"
        },
        "id": "_Fo_r23HVYqp",
        "outputId": "a843d479-87c8-4fc1-f9bd-b02a1dee41d8"
      },
      "execution_count": 18,
      "outputs": [
        {
          "output_type": "stream",
          "name": "stdout",
          "text": [
            "Found 18 files belonging to 4 classes.\n",
            "Using 3 files for validation.\n"
          ]
        }
      ]
    },
    {
      "cell_type": "code",
      "source": [
        "class_names = trainmodel.class_names\n",
        "print(class_names)"
      ],
      "metadata": {
        "colab": {
          "base_uri": "https://localhost:8080/"
        },
        "id": "6XZG0DvSV_Lu",
        "outputId": "6b93cdf5-818a-4556-ccf7-0e96a60c311e"
      },
      "execution_count": 19,
      "outputs": [
        {
          "output_type": "stream",
          "name": "stdout",
          "text": [
            "['Control', 'Tat + cART', 'Tat 10', 'cART']\n"
          ]
        }
      ]
    },
    {
      "cell_type": "code",
      "source": [
        "model = tf.keras. Sequential([ \n",
        "    layers.experimental.preprocessing. Rescaling(1./255), \n",
        "    layers.Conv2D(32, 3, padding='same', activation='relu'), \n",
        "    layers.MaxPooling2D(), \n",
        "    #layers.Dropout (0.2),\n",
        "\n",
        "  \n",
        "    layers.Conv2D(16, 3, padding='same', activation='relu'), \n",
        "    layers.MaxPooling2D(), \n",
        "    layers.Dropout(0.1),\n",
        " \n",
        "    layers.Flatten (), layers. Dense(128, activation='relu'), \n",
        "    layers.Dense (64, activation='relu'), \n",
        "    layers.Dense(16, activation='relu'),\n",
        "\n",
        "    layers.Dense(4) # number of classes\n",
        "    ]) "
      ],
      "metadata": {
        "id": "UfsgjI1hWOLv"
      },
      "execution_count": 20,
      "outputs": []
    },
    {
      "cell_type": "code",
      "source": [
        "model.compile (optimizer='adam', loss=tf.losses. SparseCategoricalCrossentropy (from_logits=True), metrics=['accuracy'])\n",
        "history = model.fit(trainmodel, validation_data=valmodel, epochs=200) "
      ],
      "metadata": {
        "colab": {
          "base_uri": "https://localhost:8080/"
        },
        "id": "CNE8MM1rXc6S",
        "outputId": "8bf1a491-ec45-49f3-dac1-86e8d28e8797"
      },
      "execution_count": 21,
      "outputs": [
        {
          "output_type": "stream",
          "name": "stdout",
          "text": [
            "Epoch 1/200\n",
            "1/1 [==============================] - 4s 4s/step - loss: 1.3837 - accuracy: 0.2941 - val_loss: 1.0238 - val_accuracy: 1.0000\n",
            "Epoch 2/200\n",
            "1/1 [==============================] - 2s 2s/step - loss: 1.1817 - accuracy: 0.4118 - val_loss: 0.9075 - val_accuracy: 0.6667\n",
            "Epoch 3/200\n",
            "1/1 [==============================] - 2s 2s/step - loss: 0.8582 - accuracy: 0.7059 - val_loss: 0.9962 - val_accuracy: 0.6667\n",
            "Epoch 4/200\n",
            "1/1 [==============================] - 2s 2s/step - loss: 0.6120 - accuracy: 0.7059 - val_loss: 1.7492 - val_accuracy: 0.6667\n",
            "Epoch 5/200\n",
            "1/1 [==============================] - 2s 2s/step - loss: 0.4425 - accuracy: 0.7647 - val_loss: 1.5690 - val_accuracy: 0.3333\n",
            "Epoch 6/200\n",
            "1/1 [==============================] - 3s 3s/step - loss: 0.3266 - accuracy: 0.8235 - val_loss: 1.5029 - val_accuracy: 0.6667\n",
            "Epoch 7/200\n",
            "1/1 [==============================] - 1s 1s/step - loss: 0.2826 - accuracy: 0.8235 - val_loss: 1.3231 - val_accuracy: 0.6667\n",
            "Epoch 8/200\n",
            "1/1 [==============================] - 2s 2s/step - loss: 0.2639 - accuracy: 0.8235 - val_loss: 1.2389 - val_accuracy: 0.6667\n",
            "Epoch 9/200\n",
            "1/1 [==============================] - 2s 2s/step - loss: 0.2548 - accuracy: 0.8235 - val_loss: 1.9528 - val_accuracy: 0.3333\n",
            "Epoch 10/200\n",
            "1/1 [==============================] - 2s 2s/step - loss: 0.3170 - accuracy: 0.8235 - val_loss: 0.3395 - val_accuracy: 0.6667\n",
            "Epoch 11/200\n",
            "1/1 [==============================] - 2s 2s/step - loss: 0.4663 - accuracy: 0.8235 - val_loss: 1.3515 - val_accuracy: 0.3333\n",
            "Epoch 12/200\n",
            "1/1 [==============================] - 2s 2s/step - loss: 0.2470 - accuracy: 0.8235 - val_loss: 3.0536 - val_accuracy: 0.3333\n",
            "Epoch 13/200\n",
            "1/1 [==============================] - 2s 2s/step - loss: 0.4143 - accuracy: 0.8235 - val_loss: 1.7140 - val_accuracy: 0.6667\n",
            "Epoch 14/200\n",
            "1/1 [==============================] - 2s 2s/step - loss: 0.2485 - accuracy: 0.8235 - val_loss: 0.7043 - val_accuracy: 0.6667\n",
            "Epoch 15/200\n",
            "1/1 [==============================] - 2s 2s/step - loss: 0.3852 - accuracy: 0.8235 - val_loss: 1.1237 - val_accuracy: 0.6667\n",
            "Epoch 16/200\n",
            "1/1 [==============================] - 2s 2s/step - loss: 0.2861 - accuracy: 0.8235 - val_loss: 2.3374 - val_accuracy: 0.3333\n",
            "Epoch 17/200\n",
            "1/1 [==============================] - 2s 2s/step - loss: 0.2755 - accuracy: 0.8235 - val_loss: 2.8299 - val_accuracy: 0.3333\n",
            "Epoch 18/200\n",
            "1/1 [==============================] - 2s 2s/step - loss: 0.3170 - accuracy: 0.8235 - val_loss: 2.2809 - val_accuracy: 0.3333\n",
            "Epoch 19/200\n",
            "1/1 [==============================] - 3s 3s/step - loss: 0.2524 - accuracy: 0.8235 - val_loss: 1.6535 - val_accuracy: 0.6667\n",
            "Epoch 20/200\n",
            "1/1 [==============================] - 1s 1s/step - loss: 0.2725 - accuracy: 0.8235 - val_loss: 1.5441 - val_accuracy: 0.6667\n",
            "Epoch 21/200\n",
            "1/1 [==============================] - 2s 2s/step - loss: 0.2835 - accuracy: 0.8235 - val_loss: 1.8431 - val_accuracy: 0.6667\n",
            "Epoch 22/200\n",
            "1/1 [==============================] - 1s 1s/step - loss: 0.2628 - accuracy: 0.8235 - val_loss: 2.3179 - val_accuracy: 0.3333\n",
            "Epoch 23/200\n",
            "1/1 [==============================] - 3s 3s/step - loss: 0.2506 - accuracy: 0.8235 - val_loss: 2.6338 - val_accuracy: 0.3333\n",
            "Epoch 24/200\n",
            "1/1 [==============================] - 2s 2s/step - loss: 0.2654 - accuracy: 0.8235 - val_loss: 2.6125 - val_accuracy: 0.3333\n",
            "Epoch 25/200\n",
            "1/1 [==============================] - 2s 2s/step - loss: 0.2641 - accuracy: 0.8235 - val_loss: 2.3412 - val_accuracy: 0.3333\n",
            "Epoch 26/200\n",
            "1/1 [==============================] - 2s 2s/step - loss: 0.2527 - accuracy: 0.8235 - val_loss: 2.0309 - val_accuracy: 0.6667\n",
            "Epoch 27/200\n",
            "1/1 [==============================] - 2s 2s/step - loss: 0.2412 - accuracy: 0.8235 - val_loss: 1.7975 - val_accuracy: 0.6667\n",
            "Epoch 28/200\n",
            "1/1 [==============================] - 2s 2s/step - loss: 0.2526 - accuracy: 0.8235 - val_loss: 1.6977 - val_accuracy: 0.6667\n",
            "Epoch 29/200\n",
            "1/1 [==============================] - 3s 3s/step - loss: 0.2560 - accuracy: 0.8235 - val_loss: 1.7137 - val_accuracy: 0.6667\n",
            "Epoch 30/200\n",
            "1/1 [==============================] - 2s 2s/step - loss: 0.2551 - accuracy: 0.8235 - val_loss: 1.8079 - val_accuracy: 0.6667\n",
            "Epoch 31/200\n",
            "1/1 [==============================] - 1s 1s/step - loss: 0.2468 - accuracy: 0.8235 - val_loss: 1.9258 - val_accuracy: 0.3333\n",
            "Epoch 32/200\n",
            "1/1 [==============================] - 1s 1s/step - loss: 0.2433 - accuracy: 0.8235 - val_loss: 2.0187 - val_accuracy: 0.3333\n",
            "Epoch 33/200\n",
            "1/1 [==============================] - 2s 2s/step - loss: 0.2474 - accuracy: 0.8235 - val_loss: 2.0547 - val_accuracy: 0.3333\n",
            "Epoch 34/200\n",
            "1/1 [==============================] - 2s 2s/step - loss: 0.2516 - accuracy: 0.8235 - val_loss: 2.0200 - val_accuracy: 0.3333\n",
            "Epoch 35/200\n",
            "1/1 [==============================] - 1s 1s/step - loss: 0.2503 - accuracy: 0.8235 - val_loss: 1.9335 - val_accuracy: 0.3333\n",
            "Epoch 36/200\n",
            "1/1 [==============================] - 2s 2s/step - loss: 0.2468 - accuracy: 0.8235 - val_loss: 1.8324 - val_accuracy: 0.3333\n",
            "Epoch 37/200\n",
            "1/1 [==============================] - 2s 2s/step - loss: 0.2455 - accuracy: 0.8235 - val_loss: 1.7464 - val_accuracy: 0.6667\n",
            "Epoch 38/200\n",
            "1/1 [==============================] - 1s 1s/step - loss: 0.2534 - accuracy: 0.8235 - val_loss: 1.7106 - val_accuracy: 0.6667\n",
            "Epoch 39/200\n",
            "1/1 [==============================] - 2s 2s/step - loss: 0.2495 - accuracy: 0.8235 - val_loss: 1.7120 - val_accuracy: 0.6667\n",
            "Epoch 40/200\n",
            "1/1 [==============================] - 2s 2s/step - loss: 0.2489 - accuracy: 0.8235 - val_loss: 1.7666 - val_accuracy: 0.6667\n",
            "Epoch 41/200\n",
            "1/1 [==============================] - 2s 2s/step - loss: 0.2463 - accuracy: 0.8235 - val_loss: 1.8431 - val_accuracy: 0.6667\n",
            "Epoch 42/200\n",
            "1/1 [==============================] - 2s 2s/step - loss: 0.2404 - accuracy: 0.8235 - val_loss: 1.9054 - val_accuracy: 0.3333\n",
            "Epoch 43/200\n",
            "1/1 [==============================] - 2s 2s/step - loss: 0.2498 - accuracy: 0.8235 - val_loss: 1.9293 - val_accuracy: 0.3333\n",
            "Epoch 44/200\n",
            "1/1 [==============================] - 2s 2s/step - loss: 0.2491 - accuracy: 0.8235 - val_loss: 1.9061 - val_accuracy: 0.3333\n",
            "Epoch 45/200\n",
            "1/1 [==============================] - 3s 3s/step - loss: 0.2465 - accuracy: 0.8235 - val_loss: 1.8558 - val_accuracy: 0.6667\n",
            "Epoch 46/200\n",
            "1/1 [==============================] - 2s 2s/step - loss: 0.2470 - accuracy: 0.8235 - val_loss: 1.8043 - val_accuracy: 0.6667\n",
            "Epoch 47/200\n",
            "1/1 [==============================] - 2s 2s/step - loss: 0.2471 - accuracy: 0.7647 - val_loss: 1.7765 - val_accuracy: 0.6667\n",
            "Epoch 48/200\n",
            "1/1 [==============================] - 2s 2s/step - loss: 0.2466 - accuracy: 0.8235 - val_loss: 1.7725 - val_accuracy: 0.6667\n",
            "Epoch 49/200\n",
            "1/1 [==============================] - 2s 2s/step - loss: 0.2455 - accuracy: 0.8235 - val_loss: 1.8097 - val_accuracy: 0.3333\n",
            "Epoch 50/200\n",
            "1/1 [==============================] - 2s 2s/step - loss: 0.2437 - accuracy: 0.8235 - val_loss: 1.8978 - val_accuracy: 0.3333\n",
            "Epoch 51/200\n",
            "1/1 [==============================] - 2s 2s/step - loss: 0.2475 - accuracy: 0.8235 - val_loss: 1.9870 - val_accuracy: 0.3333\n",
            "Epoch 52/200\n",
            "1/1 [==============================] - 2s 2s/step - loss: 0.2491 - accuracy: 0.7647 - val_loss: 2.0199 - val_accuracy: 0.3333\n",
            "Epoch 53/200\n",
            "1/1 [==============================] - 2s 2s/step - loss: 0.2475 - accuracy: 0.8235 - val_loss: 1.9847 - val_accuracy: 0.3333\n",
            "Epoch 54/200\n",
            "1/1 [==============================] - 2s 2s/step - loss: 0.2466 - accuracy: 0.8235 - val_loss: 1.9247 - val_accuracy: 0.6667\n",
            "Epoch 55/200\n",
            "1/1 [==============================] - 2s 2s/step - loss: 0.2474 - accuracy: 0.8235 - val_loss: 1.8748 - val_accuracy: 0.6667\n",
            "Epoch 56/200\n",
            "1/1 [==============================] - 2s 2s/step - loss: 0.2440 - accuracy: 0.8824 - val_loss: 1.8679 - val_accuracy: 0.6667\n",
            "Epoch 57/200\n",
            "1/1 [==============================] - 3s 3s/step - loss: 0.2446 - accuracy: 0.8235 - val_loss: 1.9081 - val_accuracy: 0.6667\n",
            "Epoch 58/200\n",
            "1/1 [==============================] - 2s 2s/step - loss: 0.2421 - accuracy: 0.8824 - val_loss: 1.9888 - val_accuracy: 0.6667\n",
            "Epoch 59/200\n",
            "1/1 [==============================] - 2s 2s/step - loss: 0.2482 - accuracy: 0.7647 - val_loss: 2.0938 - val_accuracy: 0.6667\n",
            "Epoch 60/200\n",
            "1/1 [==============================] - 1s 1s/step - loss: 0.2500 - accuracy: 0.8235 - val_loss: 2.1807 - val_accuracy: 0.3333\n",
            "Epoch 61/200\n",
            "1/1 [==============================] - 2s 2s/step - loss: 0.2491 - accuracy: 0.8235 - val_loss: 2.2208 - val_accuracy: 0.3333\n",
            "Epoch 62/200\n",
            "1/1 [==============================] - 2s 2s/step - loss: 0.2481 - accuracy: 0.8235 - val_loss: 2.2090 - val_accuracy: 0.3333\n",
            "Epoch 63/200\n",
            "1/1 [==============================] - 2s 2s/step - loss: 0.2406 - accuracy: 0.8824 - val_loss: 2.1823 - val_accuracy: 0.3333\n",
            "Epoch 64/200\n",
            "1/1 [==============================] - 2s 2s/step - loss: 0.2447 - accuracy: 0.8824 - val_loss: 2.1597 - val_accuracy: 0.6667\n",
            "Epoch 65/200\n",
            "1/1 [==============================] - 1s 1s/step - loss: 0.2419 - accuracy: 0.8824 - val_loss: 2.1766 - val_accuracy: 0.6667\n",
            "Epoch 66/200\n",
            "1/1 [==============================] - 1s 1s/step - loss: 0.2484 - accuracy: 0.7647 - val_loss: 2.2183 - val_accuracy: 0.3333\n",
            "Epoch 67/200\n",
            "1/1 [==============================] - 2s 2s/step - loss: 0.2473 - accuracy: 0.7647 - val_loss: 2.2684 - val_accuracy: 0.3333\n",
            "Epoch 68/200\n",
            "1/1 [==============================] - 1s 1s/step - loss: 0.2449 - accuracy: 0.8235 - val_loss: 2.2907 - val_accuracy: 0.3333\n",
            "Epoch 69/200\n",
            "1/1 [==============================] - 1s 1s/step - loss: 0.2410 - accuracy: 0.8824 - val_loss: 2.2090 - val_accuracy: 0.3333\n",
            "Epoch 70/200\n",
            "1/1 [==============================] - 2s 2s/step - loss: 0.2455 - accuracy: 0.7647 - val_loss: 2.1258 - val_accuracy: 0.6667\n",
            "Epoch 71/200\n",
            "1/1 [==============================] - 2s 2s/step - loss: 0.2442 - accuracy: 0.8235 - val_loss: 2.0540 - val_accuracy: 0.6667\n",
            "Epoch 72/200\n",
            "1/1 [==============================] - 2s 2s/step - loss: 0.2455 - accuracy: 0.9412 - val_loss: 2.0036 - val_accuracy: 0.6667\n",
            "Epoch 73/200\n",
            "1/1 [==============================] - 2s 2s/step - loss: 0.2403 - accuracy: 0.8824 - val_loss: 1.9707 - val_accuracy: 0.6667\n",
            "Epoch 74/200\n",
            "1/1 [==============================] - 1s 1s/step - loss: 0.2443 - accuracy: 0.8824 - val_loss: 1.9460 - val_accuracy: 0.3333\n",
            "Epoch 75/200\n",
            "1/1 [==============================] - 1s 1s/step - loss: 0.2432 - accuracy: 0.8235 - val_loss: 1.9342 - val_accuracy: 0.3333\n",
            "Epoch 76/200\n",
            "1/1 [==============================] - 3s 3s/step - loss: 0.2413 - accuracy: 0.8235 - val_loss: 1.9360 - val_accuracy: 0.3333\n",
            "Epoch 77/200\n",
            "1/1 [==============================] - 2s 2s/step - loss: 0.2453 - accuracy: 0.8235 - val_loss: 1.9237 - val_accuracy: 0.3333\n",
            "Epoch 78/200\n",
            "1/1 [==============================] - 2s 2s/step - loss: 0.2468 - accuracy: 0.7059 - val_loss: 1.9034 - val_accuracy: 0.3333\n",
            "Epoch 79/200\n",
            "1/1 [==============================] - 2s 2s/step - loss: 0.2431 - accuracy: 0.8235 - val_loss: 1.8578 - val_accuracy: 0.6667\n",
            "Epoch 80/200\n",
            "1/1 [==============================] - 2s 2s/step - loss: 0.2523 - accuracy: 0.7059 - val_loss: 1.8102 - val_accuracy: 0.6667\n",
            "Epoch 81/200\n",
            "1/1 [==============================] - 3s 3s/step - loss: 0.2490 - accuracy: 0.7647 - val_loss: 1.7853 - val_accuracy: 0.6667\n",
            "Epoch 82/200\n",
            "1/1 [==============================] - 2s 2s/step - loss: 0.2445 - accuracy: 0.8235 - val_loss: 1.7841 - val_accuracy: 0.6667\n",
            "Epoch 83/200\n",
            "1/1 [==============================] - 2s 2s/step - loss: 0.2439 - accuracy: 0.7647 - val_loss: 1.8060 - val_accuracy: 0.6667\n",
            "Epoch 84/200\n",
            "1/1 [==============================] - 1s 1s/step - loss: 0.2517 - accuracy: 0.8235 - val_loss: 1.8623 - val_accuracy: 0.3333\n",
            "Epoch 85/200\n",
            "1/1 [==============================] - 1s 1s/step - loss: 0.2506 - accuracy: 0.8235 - val_loss: 1.8987 - val_accuracy: 0.3333\n",
            "Epoch 86/200\n",
            "1/1 [==============================] - 2s 2s/step - loss: 0.2447 - accuracy: 0.8824 - val_loss: 1.8960 - val_accuracy: 0.3333\n",
            "Epoch 87/200\n",
            "1/1 [==============================] - 2s 2s/step - loss: 0.2461 - accuracy: 0.8235 - val_loss: 1.8764 - val_accuracy: 0.3333\n",
            "Epoch 88/200\n",
            "1/1 [==============================] - 3s 3s/step - loss: 0.2445 - accuracy: 0.8824 - val_loss: 1.8385 - val_accuracy: 0.3333\n",
            "Epoch 89/200\n",
            "1/1 [==============================] - 2s 2s/step - loss: 0.2471 - accuracy: 0.7647 - val_loss: 1.8054 - val_accuracy: 0.6667\n",
            "Epoch 90/200\n",
            "1/1 [==============================] - 2s 2s/step - loss: 0.2507 - accuracy: 0.8235 - val_loss: 1.8060 - val_accuracy: 0.6667\n",
            "Epoch 91/200\n",
            "1/1 [==============================] - 1s 1s/step - loss: 0.2493 - accuracy: 0.7647 - val_loss: 1.8251 - val_accuracy: 0.6667\n",
            "Epoch 92/200\n",
            "1/1 [==============================] - 1s 1s/step - loss: 0.2546 - accuracy: 0.7647 - val_loss: 1.8594 - val_accuracy: 0.6667\n",
            "Epoch 93/200\n",
            "1/1 [==============================] - 3s 3s/step - loss: 0.2492 - accuracy: 0.6471 - val_loss: 1.8946 - val_accuracy: 0.3333\n",
            "Epoch 94/200\n",
            "1/1 [==============================] - 1s 1s/step - loss: 0.2446 - accuracy: 0.8235 - val_loss: 1.9102 - val_accuracy: 0.3333\n",
            "Epoch 95/200\n",
            "1/1 [==============================] - 2s 2s/step - loss: 0.2450 - accuracy: 0.8235 - val_loss: 1.9147 - val_accuracy: 0.3333\n",
            "Epoch 96/200\n",
            "1/1 [==============================] - 1s 1s/step - loss: 0.2428 - accuracy: 0.8824 - val_loss: 1.9813 - val_accuracy: 0.3333\n",
            "Epoch 97/200\n",
            "1/1 [==============================] - 2s 2s/step - loss: 0.2476 - accuracy: 0.7647 - val_loss: 1.9925 - val_accuracy: 0.3333\n",
            "Epoch 98/200\n",
            "1/1 [==============================] - 3s 3s/step - loss: 0.2417 - accuracy: 0.8824 - val_loss: 1.9464 - val_accuracy: 0.6667\n",
            "Epoch 99/200\n",
            "1/1 [==============================] - 2s 2s/step - loss: 0.2417 - accuracy: 0.8235 - val_loss: 1.8985 - val_accuracy: 0.6667\n",
            "Epoch 100/200\n",
            "1/1 [==============================] - 2s 2s/step - loss: 0.2482 - accuracy: 0.8235 - val_loss: 1.8727 - val_accuracy: 0.6667\n",
            "Epoch 101/200\n",
            "1/1 [==============================] - 2s 2s/step - loss: 0.2559 - accuracy: 0.7059 - val_loss: 1.8905 - val_accuracy: 0.6667\n",
            "Epoch 102/200\n",
            "1/1 [==============================] - 2s 2s/step - loss: 0.2445 - accuracy: 0.8235 - val_loss: 1.9369 - val_accuracy: 0.6667\n",
            "Epoch 103/200\n",
            "1/1 [==============================] - 3s 3s/step - loss: 0.2411 - accuracy: 0.8235 - val_loss: 2.0099 - val_accuracy: 0.6667\n",
            "Epoch 104/200\n",
            "1/1 [==============================] - 2s 2s/step - loss: 0.2489 - accuracy: 0.8235 - val_loss: 2.0495 - val_accuracy: 0.3333\n",
            "Epoch 105/200\n",
            "1/1 [==============================] - 1s 1s/step - loss: 0.2423 - accuracy: 0.8824 - val_loss: 2.0711 - val_accuracy: 0.3333\n",
            "Epoch 106/200\n",
            "1/1 [==============================] - 1s 1s/step - loss: 0.2454 - accuracy: 0.8235 - val_loss: 2.0414 - val_accuracy: 0.3333\n",
            "Epoch 107/200\n",
            "1/1 [==============================] - 2s 2s/step - loss: 0.2458 - accuracy: 0.7647 - val_loss: 2.0111 - val_accuracy: 0.6667\n",
            "Epoch 108/200\n",
            "1/1 [==============================] - 2s 2s/step - loss: 0.2497 - accuracy: 0.7647 - val_loss: 1.9980 - val_accuracy: 0.6667\n",
            "Epoch 109/200\n",
            "1/1 [==============================] - 2s 2s/step - loss: 0.2458 - accuracy: 0.8235 - val_loss: 2.0414 - val_accuracy: 0.6667\n",
            "Epoch 110/200\n",
            "1/1 [==============================] - 2s 2s/step - loss: 0.2354 - accuracy: 0.9412 - val_loss: 2.1083 - val_accuracy: 0.3333\n",
            "Epoch 111/200\n",
            "1/1 [==============================] - 1s 1s/step - loss: 0.2482 - accuracy: 0.8235 - val_loss: 2.1516 - val_accuracy: 0.3333\n",
            "Epoch 112/200\n",
            "1/1 [==============================] - 2s 2s/step - loss: 0.2404 - accuracy: 0.8824 - val_loss: 2.1743 - val_accuracy: 0.3333\n",
            "Epoch 113/200\n",
            "1/1 [==============================] - 2s 2s/step - loss: 0.2420 - accuracy: 0.8824 - val_loss: 2.1619 - val_accuracy: 0.3333\n",
            "Epoch 114/200\n",
            "1/1 [==============================] - 2s 2s/step - loss: 0.2456 - accuracy: 0.7647 - val_loss: 2.1471 - val_accuracy: 0.3333\n",
            "Epoch 115/200\n",
            "1/1 [==============================] - 2s 2s/step - loss: 0.2438 - accuracy: 0.7647 - val_loss: 2.1163 - val_accuracy: 0.6667\n",
            "Epoch 116/200\n",
            "1/1 [==============================] - 3s 3s/step - loss: 0.2437 - accuracy: 0.8235 - val_loss: 2.1368 - val_accuracy: 0.6667\n",
            "Epoch 117/200\n",
            "1/1 [==============================] - 2s 2s/step - loss: 0.2486 - accuracy: 0.7647 - val_loss: 2.1671 - val_accuracy: 0.6667\n",
            "Epoch 118/200\n",
            "1/1 [==============================] - 2s 2s/step - loss: 0.2461 - accuracy: 0.8235 - val_loss: 2.1904 - val_accuracy: 0.6667\n",
            "Epoch 119/200\n",
            "1/1 [==============================] - 2s 2s/step - loss: 0.2495 - accuracy: 0.8235 - val_loss: 2.2436 - val_accuracy: 0.3333\n",
            "Epoch 120/200\n",
            "1/1 [==============================] - 2s 2s/step - loss: 0.2449 - accuracy: 0.8235 - val_loss: 2.2600 - val_accuracy: 0.3333\n",
            "Epoch 121/200\n",
            "1/1 [==============================] - 2s 2s/step - loss: 0.2451 - accuracy: 0.8235 - val_loss: 2.2307 - val_accuracy: 0.6667\n",
            "Epoch 122/200\n",
            "1/1 [==============================] - 2s 2s/step - loss: 0.2449 - accuracy: 0.8824 - val_loss: 2.1859 - val_accuracy: 0.6667\n",
            "Epoch 123/200\n",
            "1/1 [==============================] - 3s 3s/step - loss: 0.2395 - accuracy: 0.8824 - val_loss: 2.1659 - val_accuracy: 0.6667\n",
            "Epoch 124/200\n",
            "1/1 [==============================] - 2s 2s/step - loss: 0.2459 - accuracy: 0.7647 - val_loss: 2.1934 - val_accuracy: 0.6667\n",
            "Epoch 125/200\n",
            "1/1 [==============================] - 2s 2s/step - loss: 0.2464 - accuracy: 0.8235 - val_loss: 2.2652 - val_accuracy: 0.3333\n",
            "Epoch 126/200\n",
            "1/1 [==============================] - 2s 2s/step - loss: 0.2452 - accuracy: 0.8824 - val_loss: 2.3026 - val_accuracy: 0.3333\n",
            "Epoch 127/200\n",
            "1/1 [==============================] - 2s 2s/step - loss: 0.2517 - accuracy: 0.7647 - val_loss: 2.3053 - val_accuracy: 0.3333\n",
            "Epoch 128/200\n",
            "1/1 [==============================] - 1s 1s/step - loss: 0.2543 - accuracy: 0.6471 - val_loss: 2.2855 - val_accuracy: 0.3333\n",
            "Epoch 129/200\n",
            "1/1 [==============================] - 3s 3s/step - loss: 0.2531 - accuracy: 0.7647 - val_loss: 2.2163 - val_accuracy: 0.6667\n",
            "Epoch 130/200\n",
            "1/1 [==============================] - 2s 2s/step - loss: 0.2436 - accuracy: 0.7647 - val_loss: 2.1836 - val_accuracy: 0.6667\n",
            "Epoch 131/200\n",
            "1/1 [==============================] - 2s 2s/step - loss: 0.2392 - accuracy: 0.8824 - val_loss: 2.2009 - val_accuracy: 0.6667\n",
            "Epoch 132/200\n",
            "1/1 [==============================] - 2s 2s/step - loss: 0.2420 - accuracy: 0.8824 - val_loss: 2.2394 - val_accuracy: 0.6667\n",
            "Epoch 133/200\n",
            "1/1 [==============================] - 2s 2s/step - loss: 0.2443 - accuracy: 0.8824 - val_loss: 2.2679 - val_accuracy: 0.3333\n",
            "Epoch 134/200\n",
            "1/1 [==============================] - 2s 2s/step - loss: 0.2459 - accuracy: 0.8824 - val_loss: 2.2624 - val_accuracy: 0.3333\n",
            "Epoch 135/200\n",
            "1/1 [==============================] - 2s 2s/step - loss: 0.2447 - accuracy: 0.8235 - val_loss: 2.2470 - val_accuracy: 0.3333\n",
            "Epoch 136/200\n",
            "1/1 [==============================] - 2s 2s/step - loss: 0.2439 - accuracy: 0.8824 - val_loss: 2.2190 - val_accuracy: 0.6667\n",
            "Epoch 137/200\n",
            "1/1 [==============================] - 2s 2s/step - loss: 0.2505 - accuracy: 0.7647 - val_loss: 2.2126 - val_accuracy: 0.6667\n",
            "Epoch 138/200\n",
            "1/1 [==============================] - 2s 2s/step - loss: 0.2481 - accuracy: 0.8235 - val_loss: 2.2179 - val_accuracy: 0.3333\n",
            "Epoch 139/200\n",
            "1/1 [==============================] - 2s 2s/step - loss: 0.2431 - accuracy: 0.8824 - val_loss: 2.2527 - val_accuracy: 0.3333\n",
            "Epoch 140/200\n",
            "1/1 [==============================] - 2s 2s/step - loss: 0.2461 - accuracy: 0.8235 - val_loss: 2.2922 - val_accuracy: 0.3333\n",
            "Epoch 141/200\n",
            "1/1 [==============================] - 2s 2s/step - loss: 0.2406 - accuracy: 0.8235 - val_loss: 2.2943 - val_accuracy: 0.3333\n",
            "Epoch 142/200\n",
            "1/1 [==============================] - 2s 2s/step - loss: 0.2474 - accuracy: 0.7059 - val_loss: 2.2829 - val_accuracy: 0.3333\n",
            "Epoch 143/200\n",
            "1/1 [==============================] - 2s 2s/step - loss: 0.2436 - accuracy: 0.8824 - val_loss: 2.2592 - val_accuracy: 0.6667\n",
            "Epoch 144/200\n",
            "1/1 [==============================] - 2s 2s/step - loss: 0.2407 - accuracy: 0.8824 - val_loss: 2.2581 - val_accuracy: 0.6667\n",
            "Epoch 145/200\n",
            "1/1 [==============================] - 1s 1s/step - loss: 0.2460 - accuracy: 0.8235 - val_loss: 2.2538 - val_accuracy: 0.6667\n",
            "Epoch 146/200\n",
            "1/1 [==============================] - 2s 2s/step - loss: 0.2393 - accuracy: 0.8235 - val_loss: 2.2908 - val_accuracy: 0.6667\n",
            "Epoch 147/200\n",
            "1/1 [==============================] - 2s 2s/step - loss: 0.2530 - accuracy: 0.7647 - val_loss: 2.3027 - val_accuracy: 0.6667\n",
            "Epoch 148/200\n",
            "1/1 [==============================] - 3s 3s/step - loss: 0.2441 - accuracy: 0.7647 - val_loss: 2.3055 - val_accuracy: 0.6667\n",
            "Epoch 149/200\n",
            "1/1 [==============================] - 2s 2s/step - loss: 0.2417 - accuracy: 0.8824 - val_loss: 2.2974 - val_accuracy: 0.6667\n",
            "Epoch 150/200\n",
            "1/1 [==============================] - 2s 2s/step - loss: 0.2439 - accuracy: 0.8235 - val_loss: 2.3021 - val_accuracy: 0.6667\n",
            "Epoch 151/200\n",
            "1/1 [==============================] - 1s 1s/step - loss: 0.2457 - accuracy: 0.8235 - val_loss: 2.3348 - val_accuracy: 0.6667\n",
            "Epoch 152/200\n",
            "1/1 [==============================] - 2s 2s/step - loss: 0.2466 - accuracy: 0.8235 - val_loss: 2.4004 - val_accuracy: 0.3333\n",
            "Epoch 153/200\n",
            "1/1 [==============================] - 2s 2s/step - loss: 0.2364 - accuracy: 0.8235 - val_loss: 2.4768 - val_accuracy: 0.3333\n",
            "Epoch 154/200\n",
            "1/1 [==============================] - 2s 2s/step - loss: 0.2483 - accuracy: 0.8235 - val_loss: 2.5213 - val_accuracy: 0.3333\n",
            "Epoch 155/200\n",
            "1/1 [==============================] - 2s 2s/step - loss: 0.2457 - accuracy: 0.8235 - val_loss: 2.5302 - val_accuracy: 0.3333\n",
            "Epoch 156/200\n",
            "1/1 [==============================] - 2s 2s/step - loss: 0.2421 - accuracy: 0.7647 - val_loss: 2.5095 - val_accuracy: 0.3333\n",
            "Epoch 157/200\n",
            "1/1 [==============================] - 2s 2s/step - loss: 0.2417 - accuracy: 0.9412 - val_loss: 2.4772 - val_accuracy: 0.6667\n",
            "Epoch 158/200\n",
            "1/1 [==============================] - 2s 2s/step - loss: 0.2355 - accuracy: 1.0000 - val_loss: 2.4581 - val_accuracy: 0.6667\n",
            "Epoch 159/200\n",
            "1/1 [==============================] - 1s 1s/step - loss: 0.2510 - accuracy: 0.7647 - val_loss: 2.4906 - val_accuracy: 0.6667\n",
            "Epoch 160/200\n",
            "1/1 [==============================] - 2s 2s/step - loss: 0.2343 - accuracy: 0.9412 - val_loss: 2.5348 - val_accuracy: 0.6667\n",
            "Epoch 161/200\n",
            "1/1 [==============================] - 3s 3s/step - loss: 0.2513 - accuracy: 0.7059 - val_loss: 2.5951 - val_accuracy: 0.3333\n",
            "Epoch 162/200\n",
            "1/1 [==============================] - 1s 1s/step - loss: 0.2537 - accuracy: 0.7647 - val_loss: 2.5972 - val_accuracy: 0.3333\n",
            "Epoch 163/200\n",
            "1/1 [==============================] - 1s 1s/step - loss: 0.2464 - accuracy: 0.9412 - val_loss: 2.5835 - val_accuracy: 0.3333\n",
            "Epoch 164/200\n",
            "1/1 [==============================] - 2s 2s/step - loss: 0.2423 - accuracy: 0.8235 - val_loss: 2.5758 - val_accuracy: 0.6667\n",
            "Epoch 165/200\n",
            "1/1 [==============================] - 2s 2s/step - loss: 0.2469 - accuracy: 0.7647 - val_loss: 2.5921 - val_accuracy: 0.6667\n",
            "Epoch 166/200\n",
            "1/1 [==============================] - 2s 2s/step - loss: 0.2382 - accuracy: 0.8235 - val_loss: 2.6748 - val_accuracy: 0.3333\n",
            "Epoch 167/200\n",
            "1/1 [==============================] - 3s 3s/step - loss: 0.2470 - accuracy: 0.8824 - val_loss: 2.7239 - val_accuracy: 0.3333\n",
            "Epoch 168/200\n",
            "1/1 [==============================] - 2s 2s/step - loss: 0.2490 - accuracy: 0.8235 - val_loss: 2.7200 - val_accuracy: 0.3333\n",
            "Epoch 169/200\n",
            "1/1 [==============================] - 2s 2s/step - loss: 0.2474 - accuracy: 0.8235 - val_loss: 2.7128 - val_accuracy: 0.3333\n",
            "Epoch 170/200\n",
            "1/1 [==============================] - 2s 2s/step - loss: 0.2427 - accuracy: 0.8235 - val_loss: 2.7040 - val_accuracy: 0.6667\n",
            "Epoch 171/200\n",
            "1/1 [==============================] - 2s 2s/step - loss: 0.2452 - accuracy: 0.8824 - val_loss: 2.7061 - val_accuracy: 0.6667\n",
            "Epoch 172/200\n",
            "1/1 [==============================] - 1s 1s/step - loss: 0.2460 - accuracy: 0.8235 - val_loss: 2.7118 - val_accuracy: 0.6667\n",
            "Epoch 173/200\n",
            "1/1 [==============================] - 2s 2s/step - loss: 0.2488 - accuracy: 0.7647 - val_loss: 2.6944 - val_accuracy: 0.6667\n",
            "Epoch 174/200\n",
            "1/1 [==============================] - 2s 2s/step - loss: 0.2546 - accuracy: 0.7647 - val_loss: 2.6764 - val_accuracy: 0.6667\n",
            "Epoch 175/200\n",
            "1/1 [==============================] - 1s 1s/step - loss: 0.2487 - accuracy: 0.7647 - val_loss: 2.6638 - val_accuracy: 0.6667\n",
            "Epoch 176/200\n",
            "1/1 [==============================] - 2s 2s/step - loss: 0.2474 - accuracy: 0.7059 - val_loss: 2.6737 - val_accuracy: 0.3333\n",
            "Epoch 177/200\n",
            "1/1 [==============================] - 2s 2s/step - loss: 0.2464 - accuracy: 0.8235 - val_loss: 2.7152 - val_accuracy: 0.3333\n",
            "Epoch 178/200\n",
            "1/1 [==============================] - 2s 2s/step - loss: 0.2490 - accuracy: 0.8235 - val_loss: 2.7474 - val_accuracy: 0.3333\n",
            "Epoch 179/200\n",
            "1/1 [==============================] - 2s 2s/step - loss: 0.2376 - accuracy: 0.8235 - val_loss: 2.7366 - val_accuracy: 0.3333\n",
            "Epoch 180/200\n",
            "1/1 [==============================] - 2s 2s/step - loss: 0.2424 - accuracy: 0.8235 - val_loss: 2.6904 - val_accuracy: 0.3333\n",
            "Epoch 181/200\n",
            "1/1 [==============================] - 1s 1s/step - loss: 0.2466 - accuracy: 0.7647 - val_loss: 2.6288 - val_accuracy: 0.6667\n",
            "Epoch 182/200\n",
            "1/1 [==============================] - 1s 1s/step - loss: 0.2438 - accuracy: 0.8235 - val_loss: 2.6089 - val_accuracy: 0.6667\n",
            "Epoch 183/200\n",
            "1/1 [==============================] - 2s 2s/step - loss: 0.2498 - accuracy: 0.7647 - val_loss: 2.5871 - val_accuracy: 0.6667\n",
            "Epoch 184/200\n",
            "1/1 [==============================] - 2s 2s/step - loss: 0.2447 - accuracy: 0.8824 - val_loss: 2.6052 - val_accuracy: 0.6667\n",
            "Epoch 185/200\n",
            "1/1 [==============================] - 3s 3s/step - loss: 0.2486 - accuracy: 0.8235 - val_loss: 2.6379 - val_accuracy: 0.3333\n",
            "Epoch 186/200\n",
            "1/1 [==============================] - 2s 2s/step - loss: 0.2519 - accuracy: 0.7059 - val_loss: 2.6642 - val_accuracy: 0.3333\n",
            "Epoch 187/200\n",
            "1/1 [==============================] - 2s 2s/step - loss: 0.2380 - accuracy: 0.8235 - val_loss: 2.6421 - val_accuracy: 0.3333\n",
            "Epoch 188/200\n",
            "1/1 [==============================] - 1s 1s/step - loss: 0.2450 - accuracy: 0.8235 - val_loss: 2.5814 - val_accuracy: 0.6667\n",
            "Epoch 189/200\n",
            "1/1 [==============================] - 2s 2s/step - loss: 0.2437 - accuracy: 0.8235 - val_loss: 2.5328 - val_accuracy: 0.6667\n",
            "Epoch 190/200\n",
            "1/1 [==============================] - 2s 2s/step - loss: 0.2533 - accuracy: 0.8235 - val_loss: 2.5308 - val_accuracy: 0.6667\n",
            "Epoch 191/200\n",
            "1/1 [==============================] - 2s 2s/step - loss: 0.2450 - accuracy: 0.8235 - val_loss: 2.5680 - val_accuracy: 0.6667\n",
            "Epoch 192/200\n",
            "1/1 [==============================] - 3s 3s/step - loss: 0.2484 - accuracy: 0.7647 - val_loss: 2.6015 - val_accuracy: 0.3333\n",
            "Epoch 193/200\n",
            "1/1 [==============================] - 2s 2s/step - loss: 0.2510 - accuracy: 0.8235 - val_loss: 2.5896 - val_accuracy: 0.6667\n",
            "Epoch 194/200\n",
            "1/1 [==============================] - 2s 2s/step - loss: 0.2486 - accuracy: 0.7647 - val_loss: 2.5411 - val_accuracy: 0.6667\n",
            "Epoch 195/200\n",
            "1/1 [==============================] - 2s 2s/step - loss: 0.2402 - accuracy: 0.8824 - val_loss: 2.5001 - val_accuracy: 0.6667\n",
            "Epoch 196/200\n",
            "1/1 [==============================] - 3s 3s/step - loss: 0.2413 - accuracy: 0.8824 - val_loss: 2.4907 - val_accuracy: 0.6667\n",
            "Epoch 197/200\n",
            "1/1 [==============================] - 2s 2s/step - loss: 0.2429 - accuracy: 0.8824 - val_loss: 2.5230 - val_accuracy: 0.6667\n",
            "Epoch 198/200\n",
            "1/1 [==============================] - 2s 2s/step - loss: 0.2419 - accuracy: 0.8235 - val_loss: 2.5784 - val_accuracy: 0.3333\n",
            "Epoch 199/200\n",
            "1/1 [==============================] - 2s 2s/step - loss: 0.2477 - accuracy: 0.8235 - val_loss: 2.6123 - val_accuracy: 0.3333\n",
            "Epoch 200/200\n",
            "1/1 [==============================] - 2s 2s/step - loss: 0.2522 - accuracy: 0.7059 - val_loss: 2.6386 - val_accuracy: 0.3333\n"
          ]
        }
      ]
    },
    {
      "cell_type": "code",
      "source": [
        "y_vloss = history.history['val_loss'] \n",
        "y_loss = history.history['loss'] \n",
        "y_acc = history.history['accuracy'] \n",
        "y_vacc = history.history['val_accuracy'] "
      ],
      "metadata": {
        "id": "_dPIq4T1aKM1"
      },
      "execution_count": 22,
      "outputs": []
    },
    {
      "cell_type": "code",
      "source": [
        "fig, (ax1, ax2) = plt.subplots (1, 2) \n",
        "ax1.plot(np.arange (len (y_vloss)), y_vloss, marker='.', c='red') \n",
        "ax1.plot(np.arange (len (y_loss)), y_loss, marker='.', c='blue') \n",
        "ax1.grid() \n",
        "plt.setp(ax1, xlabel='epoch', ylabel='loss')\n",
        "\n",
        "ax2.plot(np.arange (len (y_vacc)), y_vacc, marker='.', c='red') \n",
        "ax2.plot(np.arange (len (y_acc)), y_acc, marker='.', c='blue') \n",
        "ax2.grid() \n",
        "plt.setp(ax2, xlabel='epoch', ylabel='accuracy') \n",
        "\n",
        "plt.show()"
      ],
      "metadata": {
        "colab": {
          "base_uri": "https://localhost:8080/",
          "height": 449
        },
        "id": "0qmMWng1aQ2m",
        "outputId": "34824a1c-bf81-4779-84ec-f9f708a8c6b0"
      },
      "execution_count": 23,
      "outputs": [
        {
          "output_type": "display_data",
          "data": {
            "text/plain": [
              "<Figure size 640x480 with 2 Axes>"
            ],
            "image/png": "[encoded data removed]"
          },
          "metadata": {}
        }
      ]
    }
  ]
}