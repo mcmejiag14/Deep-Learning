{
  "cells": [
    {
      "cell_type": "markdown",
      "metadata": {
        "id": "view-in-github",
        "colab_type": "text"
      },
      "source": [
        "<a href=\"https://colab.research.google.com/github/mcmejiag14/Deep-Learning/blob/main/Agosto_10_(_2).ipynb\" target=\"_parent\"><img src=\"https://colab.research.google.com/assets/colab-badge.svg\" alt=\"Open In Colab\"/></a>"
      ]
    },
    {
      "cell_type": "code",
      "execution_count": 1,
      "metadata": {
        "id": "0hY3mM3HEAUh"
      },
      "outputs": [],
      "source": [
        "import numpy as np\n",
        "import tensorflow as tf\n",
        "from tensorflow.keras import layers\n",
        "from tensorflow.keras.callbacks import EarlyStopping\n",
        "import pathlib\n",
        "import matplotlib.pyplot as plt"
      ]
    },
    {
      "cell_type": "code",
      "execution_count": 2,
      "metadata": {
        "colab": {
          "base_uri": "https://localhost:8080/"
        },
        "id": "iePDQ4EaFqSM",
        "outputId": "c9464aa9-7f08-4683-9ef2-619817a35353"
      },
      "outputs": [
        {
          "output_type": "stream",
          "name": "stdout",
          "text": [
            "Mounted at /content/drive\n"
          ]
        }
      ],
      "source": [
        "from google.colab import drive\n",
        "drive.mount('/content/drive')"
      ]
    },
    {
      "cell_type": "code",
      "execution_count": 3,
      "metadata": {
        "id": "cfZIfy9sGB4Z"
      },
      "outputs": [],
      "source": [
        "data_dir = '/content/drive/MyDrive/Data 2'\n",
        "data_dir = pathlib.Path(data_dir)"
      ]
    },
    {
      "cell_type": "code",
      "execution_count": 4,
      "metadata": {
        "id": "OhK2iKTdJGRz"
      },
      "outputs": [],
      "source": [
        "# Data Augmentation\n",
        "data_augmentation = tf.keras.Sequential([\n",
        "    layers.experimental.preprocessing.RandomFlip(\"horizontal\"),\n",
        "    layers.experimental.preprocessing.RandomRotation(0.1),\n",
        "    layers.experimental.preprocessing.RandomZoom(0.1),\n",
        "])"
      ]
    },
    {
      "cell_type": "code",
      "execution_count": 5,
      "metadata": {
        "colab": {
          "base_uri": "https://localhost:8080/"
        },
        "id": "oNTtwsUKJcta",
        "outputId": "14ae57bf-ea5e-4f32-95fd-3a67404de557"
      },
      "outputs": [
        {
          "output_type": "stream",
          "name": "stdout",
          "text": [
            "Found 18 files belonging to 4 classes.\n",
            "Using 17 files for training.\n"
          ]
        }
      ],
      "source": [
        "train_ds = tf.keras.preprocessing.image_dataset_from_directory(\n",
        "    data_dir,\n",
        "    validation_split=0.1,\n",
        "    subset=\"training\",\n",
        "    seed=123,\n",
        "    image_size=(256, 256),\n",
        "    batch_size=32,\n",
        "    label_mode=\"int\"  # This is important for SparseCategoricalCrossentropy loss\n",
        ")"
      ]
    },
    {
      "cell_type": "code",
      "execution_count": 6,
      "metadata": {
        "colab": {
          "base_uri": "https://localhost:8080/"
        },
        "id": "ZIeYSQT1GWFP",
        "outputId": "a060efab-4d1e-4804-e7c7-6213518810a8"
      },
      "outputs": [
        {
          "output_type": "stream",
          "name": "stdout",
          "text": [
            "Found 18 files belonging to 4 classes.\n",
            "Using 5 files for validation.\n",
            "['Control', 'Tat', 'TatcART', 'cART']\n"
          ]
        }
      ],
      "source": [
        "val_ds = tf.keras.preprocessing.image_dataset_from_directory(\n",
        "    data_dir,\n",
        "    validation_split=0.3,\n",
        "    subset=\"validation\",\n",
        "    seed=123,\n",
        "    image_size=(256, 256),\n",
        "    batch_size=128,\n",
        "    label_mode=\"int\"\n",
        ")\n",
        "\n",
        "class_names = train_ds.class_names\n",
        "print(class_names)"
      ]
    },
    {
      "cell_type": "code",
      "execution_count": 7,
      "metadata": {
        "id": "37JOtlLKGYX8"
      },
      "outputs": [],
      "source": [
        "AUTOTUNE = tf.data.experimental.AUTOTUNE\n",
        "train_ds = train_ds.cache().prefetch(buffer_size=AUTOTUNE)\n",
        "val_ds = val_ds.cache().prefetch(buffer_size=AUTOTUNE)"
      ]
    },
    {
      "cell_type": "code",
      "execution_count": 8,
      "metadata": {
        "id": "1GRGX4IxJsAt"
      },
      "outputs": [],
      "source": [
        "model = tf.keras.Sequential([\n",
        "    data_augmentation,\n",
        "    layers.experimental.preprocessing.Rescaling(1./255),\n",
        "    layers.Conv2D(32, 3, padding='same', activation='relu'),\n",
        "    layers.MaxPooling2D(),\n",
        "    layers.Conv2D(64, 3, padding='same', activation='relu'),\n",
        "    layers.MaxPooling2D(),\n",
        "    layers.Conv2D(128, 3, padding='same', activation='relu'),\n",
        "    layers.MaxPooling2D(),\n",
        "    layers.Flatten(),\n",
        "    layers.Dense(128, activation='relu'),\n",
        "    layers.Dropout(0.5),\n",
        "    layers.Dense(64, activation='relu'),\n",
        "    layers.Dense(len(class_names))\n",
        "])"
      ]
    },
    {
      "cell_type": "code",
      "execution_count": 9,
      "metadata": {
        "id": "JWs6WeQxGkzm"
      },
      "outputs": [],
      "source": [
        "model.compile(\n",
        "    optimizer=tf.optimizers.Adam(learning_rate=0.001),\n",
        "    loss=tf.losses.SparseCategoricalCrossentropy(from_logits=True),\n",
        "    metrics=['accuracy']\n",
        ")"
      ]
    },
    {
      "cell_type": "code",
      "execution_count": 20,
      "metadata": {
        "colab": {
          "base_uri": "https://localhost:8080/"
        },
        "id": "MIbfsfseJ2zi",
        "outputId": "b878bc1d-f137-42ec-e6f4-30edd6a279d8"
      },
      "outputs": [
        {
          "output_type": "stream",
          "name": "stdout",
          "text": [
            "Epoch 1/200\n",
            "1/1 [==============================] - 3s 3s/step - loss: 1.8376 - accuracy: 0.3529 - val_loss: 1.2010 - val_accuracy: 0.6000\n",
            "Epoch 2/200\n",
            "1/1 [==============================] - 3s 3s/step - loss: 1.3555 - accuracy: 0.2941 - val_loss: 1.3887 - val_accuracy: 0.2000\n",
            "Epoch 3/200\n",
            "1/1 [==============================] - 4s 4s/step - loss: 1.1934 - accuracy: 0.4706 - val_loss: 1.4130 - val_accuracy: 0.2000\n",
            "Epoch 4/200\n",
            "1/1 [==============================] - 3s 3s/step - loss: 1.4110 - accuracy: 0.3529 - val_loss: 1.3971 - val_accuracy: 0.2000\n",
            "Epoch 5/200\n",
            "1/1 [==============================] - 3s 3s/step - loss: 1.0941 - accuracy: 0.6471 - val_loss: 1.2467 - val_accuracy: 0.2000\n",
            "Epoch 6/200\n",
            "1/1 [==============================] - 4s 4s/step - loss: 1.2104 - accuracy: 0.3529 - val_loss: 1.0865 - val_accuracy: 0.6000\n",
            "Epoch 7/200\n",
            "1/1 [==============================] - 4s 4s/step - loss: 1.2255 - accuracy: 0.5882 - val_loss: 1.0733 - val_accuracy: 0.6000\n",
            "Epoch 8/200\n",
            "1/1 [==============================] - 3s 3s/step - loss: 1.0607 - accuracy: 0.5882 - val_loss: 1.1497 - val_accuracy: 0.4000\n",
            "Epoch 9/200\n",
            "1/1 [==============================] - 3s 3s/step - loss: 1.1740 - accuracy: 0.5294 - val_loss: 1.1960 - val_accuracy: 0.4000\n",
            "Epoch 10/200\n",
            "1/1 [==============================] - 3s 3s/step - loss: 0.9910 - accuracy: 0.5882 - val_loss: 1.2593 - val_accuracy: 0.4000\n",
            "Epoch 11/200\n",
            "1/1 [==============================] - 3s 3s/step - loss: 0.9026 - accuracy: 0.7059 - val_loss: 1.3335 - val_accuracy: 0.4000\n",
            "Epoch 12/200\n",
            "1/1 [==============================] - 3s 3s/step - loss: 1.0705 - accuracy: 0.4118 - val_loss: 1.4116 - val_accuracy: 0.2000\n",
            "Epoch 13/200\n",
            "1/1 [==============================] - 4s 4s/step - loss: 0.8751 - accuracy: 0.7647 - val_loss: 1.4271 - val_accuracy: 0.2000\n",
            "Epoch 14/200\n",
            "1/1 [==============================] - 5s 5s/step - loss: 1.2132 - accuracy: 0.4706 - val_loss: 1.3991 - val_accuracy: 0.2000\n",
            "Epoch 15/200\n",
            "1/1 [==============================] - 3s 3s/step - loss: 0.9968 - accuracy: 0.4706 - val_loss: 1.2907 - val_accuracy: 0.2000\n",
            "Epoch 16/200\n",
            "1/1 [==============================] - 3s 3s/step - loss: 0.9695 - accuracy: 0.5294 - val_loss: 1.1842 - val_accuracy: 0.2000\n",
            "Epoch 17/200\n",
            "1/1 [==============================] - 3s 3s/step - loss: 0.9252 - accuracy: 0.5882 - val_loss: 1.0451 - val_accuracy: 0.2000\n",
            "Epoch 18/200\n",
            "1/1 [==============================] - 3s 3s/step - loss: 0.8420 - accuracy: 0.6471 - val_loss: 0.9487 - val_accuracy: 0.4000\n",
            "Epoch 19/200\n",
            "1/1 [==============================] - 5s 5s/step - loss: 0.7774 - accuracy: 0.5882 - val_loss: 0.8846 - val_accuracy: 0.4000\n",
            "Epoch 20/200\n",
            "1/1 [==============================] - 5s 5s/step - loss: 1.0521 - accuracy: 0.5882 - val_loss: 0.8073 - val_accuracy: 0.4000\n",
            "Epoch 21/200\n",
            "1/1 [==============================] - 3s 3s/step - loss: 0.6668 - accuracy: 0.5882 - val_loss: 0.8057 - val_accuracy: 0.6000\n",
            "Epoch 22/200\n",
            "1/1 [==============================] - 3s 3s/step - loss: 0.7827 - accuracy: 0.6471 - val_loss: 0.8984 - val_accuracy: 0.4000\n",
            "Epoch 23/200\n",
            "1/1 [==============================] - 4s 4s/step - loss: 1.0296 - accuracy: 0.4706 - val_loss: 1.0045 - val_accuracy: 0.4000\n",
            "Epoch 24/200\n",
            "1/1 [==============================] - 3s 3s/step - loss: 0.6092 - accuracy: 0.8235 - val_loss: 1.1403 - val_accuracy: 0.4000\n",
            "Epoch 25/200\n",
            "1/1 [==============================] - 3s 3s/step - loss: 0.6575 - accuracy: 0.6471 - val_loss: 1.2413 - val_accuracy: 0.4000\n",
            "Epoch 26/200\n",
            "1/1 [==============================] - 4s 4s/step - loss: 0.4822 - accuracy: 0.8824 - val_loss: 1.2390 - val_accuracy: 0.4000\n",
            "Epoch 27/200\n",
            "1/1 [==============================] - 4s 4s/step - loss: 0.6861 - accuracy: 0.6471 - val_loss: 1.0763 - val_accuracy: 0.4000\n",
            "Epoch 28/200\n",
            "1/1 [==============================] - 4s 4s/step - loss: 0.5747 - accuracy: 0.7647 - val_loss: 1.0367 - val_accuracy: 0.4000\n",
            "Epoch 29/200\n",
            "1/1 [==============================] - 3s 3s/step - loss: 0.4519 - accuracy: 0.7059 - val_loss: 1.0362 - val_accuracy: 0.4000\n",
            "Epoch 30/200\n",
            "1/1 [==============================] - 3s 3s/step - loss: 0.6113 - accuracy: 0.6471 - val_loss: 0.9608 - val_accuracy: 0.4000\n",
            "Epoch 31/200\n",
            "1/1 [==============================] - 3s 3s/step - loss: 0.5585 - accuracy: 0.7059 - val_loss: 0.7807 - val_accuracy: 0.6000\n",
            "Epoch 32/200\n",
            "1/1 [==============================] - 5s 5s/step - loss: 0.6282 - accuracy: 0.6471 - val_loss: 0.6306 - val_accuracy: 0.6000\n",
            "Epoch 33/200\n",
            "1/1 [==============================] - 3s 3s/step - loss: 0.6624 - accuracy: 0.6471 - val_loss: 0.5801 - val_accuracy: 0.6000\n",
            "Epoch 34/200\n",
            "1/1 [==============================] - 3s 3s/step - loss: 0.6610 - accuracy: 0.6471 - val_loss: 0.6319 - val_accuracy: 0.6000\n",
            "Epoch 35/200\n",
            "1/1 [==============================] - 3s 3s/step - loss: 0.6435 - accuracy: 0.6471 - val_loss: 0.8238 - val_accuracy: 0.4000\n",
            "Epoch 36/200\n",
            "1/1 [==============================] - 3s 3s/step - loss: 0.2380 - accuracy: 0.9412 - val_loss: 1.0465 - val_accuracy: 0.4000\n",
            "Epoch 37/200\n",
            "1/1 [==============================] - 3s 3s/step - loss: 0.5836 - accuracy: 0.7059 - val_loss: 1.0943 - val_accuracy: 0.4000\n",
            "Epoch 38/200\n",
            "1/1 [==============================] - 3s 3s/step - loss: 0.5884 - accuracy: 0.8235 - val_loss: 0.9806 - val_accuracy: 0.4000\n",
            "Epoch 39/200\n",
            "1/1 [==============================] - 4s 4s/step - loss: 0.5155 - accuracy: 0.8235 - val_loss: 0.9607 - val_accuracy: 0.4000\n",
            "Epoch 40/200\n",
            "1/1 [==============================] - 3s 3s/step - loss: 0.5522 - accuracy: 0.8235 - val_loss: 0.9528 - val_accuracy: 0.4000\n",
            "Epoch 41/200\n",
            "1/1 [==============================] - 3s 3s/step - loss: 0.5151 - accuracy: 0.8235 - val_loss: 0.9583 - val_accuracy: 0.4000\n",
            "Epoch 42/200\n",
            "1/1 [==============================] - 5s 5s/step - loss: 0.3903 - accuracy: 0.8824 - val_loss: 0.9587 - val_accuracy: 0.4000\n",
            "Epoch 43/200\n",
            "1/1 [==============================] - 3s 3s/step - loss: 0.3773 - accuracy: 0.7647 - val_loss: 0.9755 - val_accuracy: 0.4000\n"
          ]
        }
      ],
      "source": [
        "early_stopping = EarlyStopping(monitor='val_loss', patience=10, restore_best_weights=True)\n",
        "\n",
        "history = model.fit(train_ds, validation_data=val_ds, epochs=200, callbacks=[early_stopping])"
      ]
    },
    {
      "cell_type": "code",
      "execution_count": 21,
      "metadata": {
        "id": "u3jMky3aI44A"
      },
      "outputs": [],
      "source": [
        "y_vloss = history.history['val_loss']\n",
        "y_loss = history.history['loss']\n",
        "y_acc = history.history['accuracy']\n",
        "y_vacc = history.history['val_accuracy']"
      ]
    },
    {
      "cell_type": "code",
      "source": [
        "# Get the final accuracy values (last epoch)\n",
        "final_train_accuracy = y_acc[-1]\n",
        "final_val_accuracy = y_vacc[-1]\n",
        "\n",
        "print(f\"Final Training Accuracy: {final_train_accuracy:.4f}\")\n",
        "print(f\"Final Validation Accuracy: {final_val_accuracy:.4f}\")"
      ],
      "metadata": {
        "colab": {
          "base_uri": "https://localhost:8080/"
        },
        "id": "5uCBR2VkRxix",
        "outputId": "b542a8a9-3283-4418-ef70-9fdfce8afad5"
      },
      "execution_count": 23,
      "outputs": [
        {
          "output_type": "stream",
          "name": "stdout",
          "text": [
            "Final Training Accuracy: 0.7647\n",
            "Final Validation Accuracy: 0.4000\n"
          ]
        }
      ]
    },
    {
      "cell_type": "code",
      "source": [
        "fig, (ax1, ax2) = plt.subplots (1, 2)\n",
        "ax1.plot(np.arange (len (y_vloss)), y_vloss, marker='.', c='red')\n",
        "ax1.plot(np.arange (len (y_loss)), y_loss, marker='.', c='blue')\n",
        "ax1.grid()\n",
        "plt.setp(ax1, xlabel='epoch', ylabel='loss')\n",
        "\n",
        "ax2.plot(np.arange (len (y_vacc)), y_vacc, marker='.', c='red')\n",
        "ax2.plot(np.arange (len (y_acc)), y_acc, marker='.', c='blue')\n",
        "ax2.grid()\n",
        "plt.setp(ax2, xlabel='epoch', ylabel='accuracy')\n",
        "\n",
        "plt.show()"
      ],
      "metadata": {
        "colab": {
          "base_uri": "https://localhost:8080/",
          "height": 449
        },
        "id": "P3pnPxZHR1U7",
        "outputId": "c437bf3a-bc0d-425a-8ee3-ead188b66964"
      },
      "execution_count": 22,
      "outputs": [
        {
          "output_type": "display_data",
          "data": {
            "text/plain": [
              "<Figure size 640x480 with 2 Axes>"
            ],
            "image/png": "[encoded data removed]"
          },
          "metadata": {}
        }
      ]
    },
    {
      "cell_type": "code",
      "source": [
        " #Evaluate the model on validation set\n",
        "val_loss, val_accuracy = model.evaluate(val_ds)\n",
        "\n",
        "print(f\"Validation Loss: {val_loss:.4f}\")\n",
        "print(f\"Validation Accuracy: {val_accuracy:.4f}\")\n",
        "\n",
        "# Predict classes for validation set\n",
        "val_predictions = model.predict(val_ds)\n",
        "val_predicted_classes = np.argmax(val_predictions, axis=-1)\n",
        "\n",
        "# Get true classes for validation set\n",
        "val_true_classes = val_ds.map(lambda x, y: y).unbatch().as_numpy_iterator()\n",
        "val_true_classes = np.array(list(val_true_classes))"
      ],
      "metadata": {
        "colab": {
          "base_uri": "https://localhost:8080/"
        },
        "id": "wZh8em7rT5xf",
        "outputId": "ebfad181-36d8-4d26-ede3-1595cf5a4c3d"
      },
      "execution_count": 26,
      "outputs": [
        {
          "output_type": "stream",
          "name": "stdout",
          "text": [
            "1/1 [==============================] - 1s 575ms/step - loss: 0.5801 - accuracy: 0.6000\n",
            "Validation Loss: 0.5801\n",
            "Validation Accuracy: 0.6000\n",
            "1/1 [==============================] - 0s 281ms/step\n"
          ]
        }
      ]
    }
  ],
  "metadata": {
    "colab": {
      "provenance": [],
      "authorship_tag": "ABX9TyNBqOjIXmWeDk1Akpx2hx5s",
      "include_colab_link": true
    },
    "kernelspec": {
      "display_name": "Python 3",
      "name": "python3"
    },
    "language_info": {
      "name": "python"
    }
  },
  "nbformat": 4,
  "nbformat_minor": 0
}