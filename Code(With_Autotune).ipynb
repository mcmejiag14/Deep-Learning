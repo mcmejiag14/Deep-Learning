{
  "nbformat": 4,
  "nbformat_minor": 0,
  "metadata": {
    "colab": {
      "provenance": [],
      "authorship_tag": "ABX9TyNnFIw675XusBFXNw2DULIl",
      "include_colab_link": true
    },
    "kernelspec": {
      "name": "python3",
      "display_name": "Python 3"
    },
    "language_info": {
      "name": "python"
    }
  },
  "cells": [
    {
      "cell_type": "markdown",
      "metadata": {
        "id": "view-in-github",
        "colab_type": "text"
      },
      "source": [
        "<a href=\"https://colab.research.google.com/github/mcmejiag14/Deep-Learning/blob/main/Code(With_Autotune).ipynb\" target=\"_parent\"><img src=\"https://colab.research.google.com/assets/colab-badge.svg\" alt=\"Open In Colab\"/></a>"
      ]
    },
    {
      "cell_type": "markdown",
      "source": [
        "## **Convolutional Neural Networks for a gene DataSet**"
      ],
      "metadata": {
        "id": "1BaF_cPGRVzj"
      }
    },
    {
      "cell_type": "markdown",
      "source": [
        "First we import all the packages needed. We import Numpy,ensorFlow, and Keras. We import pathlib to could read the data and matplotlib to could do plots. "
      ],
      "metadata": {
        "id": "GUq9e-IlRg3S"
      }
    },
    {
      "cell_type": "code",
      "execution_count": 1,
      "metadata": {
        "id": "2Qk-Io61RG-n"
      },
      "outputs": [],
      "source": [
        "import numpy as np \n",
        "import tensorflow as tf \n",
        "from tensorflow.keras import layers \n",
        "from tensorflow.keras.callbacks import EarlyStopping \n",
        "import pathlib \n",
        "import matplotlib.pyplot as plt "
      ]
    },
    {
      "cell_type": "markdown",
      "source": [
        "Now, we are going to connect google drive with the document to could read the data easily."
      ],
      "metadata": {
        "id": "cEEd1LcNTKr1"
      }
    },
    {
      "cell_type": "code",
      "source": [
        "from google.colab import drive\n",
        "drive.mount('/content/drive')"
      ],
      "metadata": {
        "colab": {
          "base_uri": "https://localhost:8080/"
        },
        "id": "g1Frc11hRQJ4",
        "outputId": "c6379059-2c4d-4ec9-8fc5-4e1329f96046"
      },
      "execution_count": 2,
      "outputs": [
        {
          "output_type": "stream",
          "name": "stdout",
          "text": [
            "Mounted at /content/drive\n"
          ]
        }
      ]
    },
    {
      "cell_type": "markdown",
      "source": [
        "Now, we import the Data. The data set consist of images of ITFI3 genes, which is divided in four classes, Control, Tat+ cART, cART, and Tat+10."
      ],
      "metadata": {
        "id": "-ssSy9KQTrLQ"
      }
    },
    {
      "cell_type": "code",
      "source": [
        "data_dir = '/content/drive/MyDrive/Data 2' \n",
        "data_dir = pathlib.Path(data_dir) "
      ],
      "metadata": {
        "id": "SAw7MJTIUHQV"
      },
      "execution_count": 3,
      "outputs": []
    },
    {
      "cell_type": "markdown",
      "source": [
        "Then, we are going to train the model. We are going to choose 10% for Validation and 90% for Training.\n",
        "\n",
        "This part of the code creates the training through the function tf.keras.preprocessing.image_dataset_from_directory. Then choosing the parameters, we specify the size of the images, in this case will be 256x256 pixels and also the batch size which we choose to be 128.\n",
        "\n"
      ],
      "metadata": {
        "id": "KAeGI4uOURZg"
      }
    },
    {
      "cell_type": "code",
      "source": [
        "trainmodel = tf.keras.preprocessing.image_dataset_from_directory(data_dir, \n",
        "    validation_split=0.1, \n",
        "    subset=\"training\",  \n",
        "    seed=123, image_size=(256, 256), \n",
        "    batch_size=128) "
      ],
      "metadata": {
        "colab": {
          "base_uri": "https://localhost:8080/"
        },
        "id": "KE3k_8DuVAwc",
        "outputId": "21890499-8f5c-42a9-95d7-2d7320973cc2"
      },
      "execution_count": 4,
      "outputs": [
        {
          "output_type": "stream",
          "name": "stdout",
          "text": [
            "Found 18 files belonging to 4 classes.\n",
            "Using 17 files for training.\n"
          ]
        }
      ]
    },
    {
      "cell_type": "markdown",
      "source": [
        "Now, we define the variable called validation. We use the same parameters as before."
      ],
      "metadata": {
        "id": "2cxeVtWhVVwk"
      }
    },
    {
      "cell_type": "code",
      "source": [
        "valmodel = tf.keras.preprocessing.image_dataset_from_directory(data_dir, \n",
        "     validation_split=0.1, \n",
        "     subset=\"validation\", \n",
        "     seed=123, \n",
        "     image_size=(256, 256), \n",
        "     batch_size=128)"
      ],
      "metadata": {
        "colab": {
          "base_uri": "https://localhost:8080/"
        },
        "id": "_Fo_r23HVYqp",
        "outputId": "91335c1b-3abb-4412-d606-34aa0b7c1d72"
      },
      "execution_count": 5,
      "outputs": [
        {
          "output_type": "stream",
          "name": "stdout",
          "text": [
            "Found 18 files belonging to 4 classes.\n",
            "Using 1 files for validation.\n"
          ]
        }
      ]
    },
    {
      "cell_type": "code",
      "source": [
        "class_names = trainmodel.class_names\n",
        "print(class_names)"
      ],
      "metadata": {
        "colab": {
          "base_uri": "https://localhost:8080/"
        },
        "id": "6XZG0DvSV_Lu",
        "outputId": "7e7e684f-28c1-470b-baa9-e13d313054bd"
      },
      "execution_count": 6,
      "outputs": [
        {
          "output_type": "stream",
          "name": "stdout",
          "text": [
            "['Control', 'Tat + cART', 'Tat 10', 'cART']\n"
          ]
        }
      ]
    },
    {
      "cell_type": "code",
      "source": [
        "AUTOTUNE = tf.data.experimental.AUTOTUNE \n",
        "trainmodel = trainmodel.cache().prefetch(buffer_size=AUTOTUNE) \n",
        "valmodel = valmodel.cache().prefetch(buffer_size=AUTOTUNE) "
      ],
      "metadata": {
        "id": "cNnXPkr6dNeQ"
      },
      "execution_count": 8,
      "outputs": []
    },
    {
      "cell_type": "code",
      "source": [
        "model = tf.keras. Sequential([ \n",
        "    layers.experimental.preprocessing. Rescaling(1./255), \n",
        "    layers.Conv2D(32, 3, padding='same', activation='relu'), \n",
        "    layers.MaxPooling2D(), \n",
        "    #layers.Dropout (0.2),\n",
        "\n",
        "  \n",
        "    layers.Conv2D(16, 3, padding='same', activation='relu'), \n",
        "    layers.MaxPooling2D(), \n",
        "    layers.Dropout(0.1),\n",
        " \n",
        "    layers.Flatten (), layers. Dense(128, activation='relu'), \n",
        "    layers.Dense (64, activation='relu'), \n",
        "    layers.Dense(16, activation='relu'),\n",
        "\n",
        "    layers.Dense(4) # number of classes\n",
        "    ]) "
      ],
      "metadata": {
        "id": "UfsgjI1hWOLv"
      },
      "execution_count": 9,
      "outputs": []
    },
    {
      "cell_type": "code",
      "source": [
        "model.compile (optimizer='adam', loss=tf.losses. SparseCategoricalCrossentropy (from_logits=True), metrics=['accuracy'])\n",
        "history = model.fit(trainmodel, validation_data=valmodel, epochs=200) "
      ],
      "metadata": {
        "colab": {
          "base_uri": "https://localhost:8080/"
        },
        "id": "CNE8MM1rXc6S",
        "outputId": "430d7d81-874a-48e7-929b-6b869bca3ec7"
      },
      "execution_count": 10,
      "outputs": [
        {
          "output_type": "stream",
          "name": "stdout",
          "text": [
            "Epoch 1/200\n",
            "1/1 [==============================] - 6s 6s/step - loss: 1.3824 - accuracy: 0.3529 - val_loss: 2.0882 - val_accuracy: 0.0000e+00\n",
            "Epoch 2/200\n",
            "1/1 [==============================] - 2s 2s/step - loss: 1.2644 - accuracy: 0.2941 - val_loss: 0.9523 - val_accuracy: 1.0000\n",
            "Epoch 3/200\n",
            "1/1 [==============================] - 1s 1s/step - loss: 0.9274 - accuracy: 0.7059 - val_loss: 1.2414 - val_accuracy: 0.0000e+00\n",
            "Epoch 4/200\n",
            "1/1 [==============================] - 1s 1s/step - loss: 0.6355 - accuracy: 0.8235 - val_loss: 1.4948 - val_accuracy: 0.0000e+00\n",
            "Epoch 5/200\n",
            "1/1 [==============================] - 1s 1s/step - loss: 0.4085 - accuracy: 0.8235 - val_loss: 1.4646 - val_accuracy: 0.0000e+00\n",
            "Epoch 6/200\n",
            "1/1 [==============================] - 1s 1s/step - loss: 0.2875 - accuracy: 0.8235 - val_loss: 1.2812 - val_accuracy: 0.0000e+00\n",
            "Epoch 7/200\n",
            "1/1 [==============================] - 2s 2s/step - loss: 0.2553 - accuracy: 0.8235 - val_loss: 1.5317 - val_accuracy: 0.0000e+00\n",
            "Epoch 8/200\n",
            "1/1 [==============================] - 3s 3s/step - loss: 0.2477 - accuracy: 0.8824 - val_loss: 1.8483 - val_accuracy: 0.0000e+00\n",
            "Epoch 9/200\n",
            "1/1 [==============================] - 2s 2s/step - loss: 0.2472 - accuracy: 0.8235 - val_loss: 2.4042 - val_accuracy: 0.0000e+00\n",
            "Epoch 10/200\n",
            "1/1 [==============================] - 1s 1s/step - loss: 0.2801 - accuracy: 0.8235 - val_loss: 1.0218 - val_accuracy: 0.0000e+00\n",
            "Epoch 11/200\n",
            "1/1 [==============================] - 1s 1s/step - loss: 0.6129 - accuracy: 0.8235 - val_loss: 3.4721 - val_accuracy: 0.0000e+00\n",
            "Epoch 12/200\n",
            "1/1 [==============================] - 1s 1s/step - loss: 0.3147 - accuracy: 0.8235 - val_loss: 4.2017 - val_accuracy: 0.0000e+00\n",
            "Epoch 13/200\n",
            "1/1 [==============================] - 1s 1s/step - loss: 0.3451 - accuracy: 0.8235 - val_loss: 3.2463 - val_accuracy: 0.0000e+00\n",
            "Epoch 14/200\n",
            "1/1 [==============================] - 1s 1s/step - loss: 0.3138 - accuracy: 0.8235 - val_loss: 3.4878 - val_accuracy: 0.0000e+00\n",
            "Epoch 15/200\n",
            "1/1 [==============================] - 2s 2s/step - loss: 0.3071 - accuracy: 0.8235 - val_loss: 4.5066 - val_accuracy: 0.0000e+00\n",
            "Epoch 16/200\n",
            "1/1 [==============================] - 3s 3s/step - loss: 0.2667 - accuracy: 0.8235 - val_loss: 4.6904 - val_accuracy: 0.0000e+00\n",
            "Epoch 17/200\n",
            "1/1 [==============================] - 1s 1s/step - loss: 0.3015 - accuracy: 0.8235 - val_loss: 4.0788 - val_accuracy: 0.0000e+00\n",
            "Epoch 18/200\n",
            "1/1 [==============================] - 2s 2s/step - loss: 0.2428 - accuracy: 0.8235 - val_loss: 3.4417 - val_accuracy: 0.0000e+00\n",
            "Epoch 19/200\n",
            "1/1 [==============================] - 1s 1s/step - loss: 0.2862 - accuracy: 0.8235 - val_loss: 3.5631 - val_accuracy: 0.0000e+00\n",
            "Epoch 20/200\n",
            "1/1 [==============================] - 1s 1s/step - loss: 0.2637 - accuracy: 0.8235 - val_loss: 4.0450 - val_accuracy: 0.0000e+00\n",
            "Epoch 21/200\n",
            "1/1 [==============================] - 2s 2s/step - loss: 0.2497 - accuracy: 0.8235 - val_loss: 4.3284 - val_accuracy: 0.0000e+00\n",
            "Epoch 22/200\n",
            "1/1 [==============================] - 3s 3s/step - loss: 0.2651 - accuracy: 0.8235 - val_loss: 4.2698 - val_accuracy: 0.0000e+00\n",
            "Epoch 23/200\n",
            "1/1 [==============================] - 2s 2s/step - loss: 0.2563 - accuracy: 0.8235 - val_loss: 3.9676 - val_accuracy: 0.0000e+00\n",
            "Epoch 24/200\n",
            "1/1 [==============================] - 1s 1s/step - loss: 0.2487 - accuracy: 0.8235 - val_loss: 3.6471 - val_accuracy: 0.0000e+00\n",
            "Epoch 25/200\n",
            "1/1 [==============================] - 1s 1s/step - loss: 0.2512 - accuracy: 0.8235 - val_loss: 3.5510 - val_accuracy: 0.0000e+00\n",
            "Epoch 26/200\n",
            "1/1 [==============================] - 1s 1s/step - loss: 0.2545 - accuracy: 0.8235 - val_loss: 3.6051 - val_accuracy: 0.0000e+00\n",
            "Epoch 27/200\n",
            "1/1 [==============================] - 1s 1s/step - loss: 0.2486 - accuracy: 0.8235 - val_loss: 3.6582 - val_accuracy: 0.0000e+00\n",
            "Epoch 28/200\n",
            "1/1 [==============================] - 2s 2s/step - loss: 0.2496 - accuracy: 0.8235 - val_loss: 3.6327 - val_accuracy: 0.0000e+00\n",
            "Epoch 29/200\n",
            "1/1 [==============================] - 3s 3s/step - loss: 0.2558 - accuracy: 0.8235 - val_loss: 3.5160 - val_accuracy: 0.0000e+00\n",
            "Epoch 30/200\n",
            "1/1 [==============================] - 2s 2s/step - loss: 0.2511 - accuracy: 0.8235 - val_loss: 3.3774 - val_accuracy: 0.0000e+00\n",
            "Epoch 31/200\n",
            "1/1 [==============================] - 1s 1s/step - loss: 0.2440 - accuracy: 0.8824 - val_loss: 3.2984 - val_accuracy: 0.0000e+00\n",
            "Epoch 32/200\n",
            "1/1 [==============================] - 2s 2s/step - loss: 0.2539 - accuracy: 0.8235 - val_loss: 3.2985 - val_accuracy: 0.0000e+00\n",
            "Epoch 33/200\n",
            "1/1 [==============================] - 1s 1s/step - loss: 0.2533 - accuracy: 0.8235 - val_loss: 3.3420 - val_accuracy: 0.0000e+00\n",
            "Epoch 34/200\n",
            "1/1 [==============================] - 1s 1s/step - loss: 0.2459 - accuracy: 0.8235 - val_loss: 3.4857 - val_accuracy: 0.0000e+00\n",
            "Epoch 35/200\n",
            "1/1 [==============================] - 2s 2s/step - loss: 0.2532 - accuracy: 0.8824 - val_loss: 3.4319 - val_accuracy: 0.0000e+00\n",
            "Epoch 36/200\n",
            "1/1 [==============================] - 2s 2s/step - loss: 0.2483 - accuracy: 0.8235 - val_loss: 3.2530 - val_accuracy: 0.0000e+00\n",
            "Epoch 37/200\n",
            "1/1 [==============================] - 2s 2s/step - loss: 0.2461 - accuracy: 0.8235 - val_loss: 3.0253 - val_accuracy: 0.0000e+00\n",
            "Epoch 38/200\n",
            "1/1 [==============================] - 1s 1s/step - loss: 0.2473 - accuracy: 0.8235 - val_loss: 2.8679 - val_accuracy: 0.0000e+00\n",
            "Epoch 39/200\n",
            "1/1 [==============================] - 1s 1s/step - loss: 0.2488 - accuracy: 0.8235 - val_loss: 2.8223 - val_accuracy: 0.0000e+00\n",
            "Epoch 40/200\n",
            "1/1 [==============================] - 1s 1s/step - loss: 0.2492 - accuracy: 0.8235 - val_loss: 2.8590 - val_accuracy: 0.0000e+00\n",
            "Epoch 41/200\n",
            "1/1 [==============================] - 1s 1s/step - loss: 0.2490 - accuracy: 0.8235 - val_loss: 2.9168 - val_accuracy: 0.0000e+00\n",
            "Epoch 42/200\n",
            "1/1 [==============================] - 1s 1s/step - loss: 0.2516 - accuracy: 0.8235 - val_loss: 2.9414 - val_accuracy: 0.0000e+00\n",
            "Epoch 43/200\n",
            "1/1 [==============================] - 2s 2s/step - loss: 0.2502 - accuracy: 0.8235 - val_loss: 2.8888 - val_accuracy: 0.0000e+00\n",
            "Epoch 44/200\n",
            "1/1 [==============================] - 2s 2s/step - loss: 0.2486 - accuracy: 0.8235 - val_loss: 2.7594 - val_accuracy: 0.0000e+00\n",
            "Epoch 45/200\n",
            "1/1 [==============================] - 2s 2s/step - loss: 0.2502 - accuracy: 0.8235 - val_loss: 2.5956 - val_accuracy: 0.0000e+00\n",
            "Epoch 46/200\n",
            "1/1 [==============================] - 1s 1s/step - loss: 0.2438 - accuracy: 0.8824 - val_loss: 2.4542 - val_accuracy: 0.0000e+00\n",
            "Epoch 47/200\n",
            "1/1 [==============================] - 1s 1s/step - loss: 0.2483 - accuracy: 0.8235 - val_loss: 2.4025 - val_accuracy: 0.0000e+00\n",
            "Epoch 48/200\n",
            "1/1 [==============================] - 1s 1s/step - loss: 0.2466 - accuracy: 0.8235 - val_loss: 2.4247 - val_accuracy: 0.0000e+00\n",
            "Epoch 49/200\n",
            "1/1 [==============================] - 2s 2s/step - loss: 0.2455 - accuracy: 0.8235 - val_loss: 2.4999 - val_accuracy: 0.0000e+00\n",
            "Epoch 50/200\n",
            "1/1 [==============================] - 2s 2s/step - loss: 0.2474 - accuracy: 0.8235 - val_loss: 2.5335 - val_accuracy: 0.0000e+00\n",
            "Epoch 51/200\n",
            "1/1 [==============================] - 2s 2s/step - loss: 0.2453 - accuracy: 0.8824 - val_loss: 2.5001 - val_accuracy: 0.0000e+00\n",
            "Epoch 52/200\n",
            "1/1 [==============================] - 2s 2s/step - loss: 0.2495 - accuracy: 0.8235 - val_loss: 2.4084 - val_accuracy: 0.0000e+00\n",
            "Epoch 53/200\n",
            "1/1 [==============================] - 1s 1s/step - loss: 0.2492 - accuracy: 0.8235 - val_loss: 2.2833 - val_accuracy: 0.0000e+00\n",
            "Epoch 54/200\n",
            "1/1 [==============================] - 1s 1s/step - loss: 0.2433 - accuracy: 0.8235 - val_loss: 2.1792 - val_accuracy: 0.0000e+00\n",
            "Epoch 55/200\n",
            "1/1 [==============================] - 1s 1s/step - loss: 0.2503 - accuracy: 0.8235 - val_loss: 2.1282 - val_accuracy: 0.0000e+00\n",
            "Epoch 56/200\n",
            "1/1 [==============================] - 2s 2s/step - loss: 0.2472 - accuracy: 0.8235 - val_loss: 2.1402 - val_accuracy: 0.0000e+00\n",
            "Epoch 57/200\n",
            "1/1 [==============================] - 3s 3s/step - loss: 0.2413 - accuracy: 0.8235 - val_loss: 2.1754 - val_accuracy: 0.0000e+00\n",
            "Epoch 58/200\n",
            "1/1 [==============================] - 1s 1s/step - loss: 0.2458 - accuracy: 0.8235 - val_loss: 2.1807 - val_accuracy: 0.0000e+00\n",
            "Epoch 59/200\n",
            "1/1 [==============================] - 1s 1s/step - loss: 0.2470 - accuracy: 0.8235 - val_loss: 2.1125 - val_accuracy: 0.0000e+00\n",
            "Epoch 60/200\n",
            "1/1 [==============================] - 1s 1s/step - loss: 0.2409 - accuracy: 0.8824 - val_loss: 2.0276 - val_accuracy: 0.0000e+00\n",
            "Epoch 61/200\n",
            "1/1 [==============================] - 1s 1s/step - loss: 0.2505 - accuracy: 0.7059 - val_loss: 1.9493 - val_accuracy: 0.0000e+00\n",
            "Epoch 62/200\n",
            "1/1 [==============================] - 3s 3s/step - loss: 0.2441 - accuracy: 0.8824 - val_loss: 1.8884 - val_accuracy: 0.0000e+00\n",
            "Epoch 63/200\n",
            "1/1 [==============================] - 2s 2s/step - loss: 0.2397 - accuracy: 0.8824 - val_loss: 1.8766 - val_accuracy: 0.0000e+00\n",
            "Epoch 64/200\n",
            "1/1 [==============================] - 1s 1s/step - loss: 0.2422 - accuracy: 0.8235 - val_loss: 1.9138 - val_accuracy: 0.0000e+00\n",
            "Epoch 65/200\n",
            "1/1 [==============================] - 1s 1s/step - loss: 0.2457 - accuracy: 0.7647 - val_loss: 1.9557 - val_accuracy: 0.0000e+00\n",
            "Epoch 66/200\n",
            "1/1 [==============================] - 1s 1s/step - loss: 0.2450 - accuracy: 0.8235 - val_loss: 1.9359 - val_accuracy: 0.0000e+00\n",
            "Epoch 67/200\n",
            "1/1 [==============================] - 1s 1s/step - loss: 0.2487 - accuracy: 0.8235 - val_loss: 1.8636 - val_accuracy: 0.0000e+00\n",
            "Epoch 68/200\n",
            "1/1 [==============================] - 3s 3s/step - loss: 0.2463 - accuracy: 0.7647 - val_loss: 1.8071 - val_accuracy: 0.0000e+00\n",
            "Epoch 69/200\n",
            "1/1 [==============================] - 1s 1s/step - loss: 0.2466 - accuracy: 0.7647 - val_loss: 1.7800 - val_accuracy: 0.0000e+00\n",
            "Epoch 70/200\n",
            "1/1 [==============================] - 1s 1s/step - loss: 0.2421 - accuracy: 0.8235 - val_loss: 1.7934 - val_accuracy: 0.0000e+00\n",
            "Epoch 71/200\n",
            "1/1 [==============================] - 1s 1s/step - loss: 0.2457 - accuracy: 0.7647 - val_loss: 1.8030 - val_accuracy: 0.0000e+00\n",
            "Epoch 72/200\n",
            "1/1 [==============================] - 2s 2s/step - loss: 0.2451 - accuracy: 0.8235 - val_loss: 1.8136 - val_accuracy: 0.0000e+00\n",
            "Epoch 73/200\n",
            "1/1 [==============================] - 3s 3s/step - loss: 0.2427 - accuracy: 0.8235 - val_loss: 1.7878 - val_accuracy: 0.0000e+00\n",
            "Epoch 74/200\n",
            "1/1 [==============================] - 2s 2s/step - loss: 0.2438 - accuracy: 0.8235 - val_loss: 1.7292 - val_accuracy: 0.0000e+00\n",
            "Epoch 75/200\n",
            "1/1 [==============================] - 1s 1s/step - loss: 0.2442 - accuracy: 0.7647 - val_loss: 1.6876 - val_accuracy: 0.0000e+00\n",
            "Epoch 76/200\n",
            "1/1 [==============================] - 1s 1s/step - loss: 0.2427 - accuracy: 0.8824 - val_loss: 1.6638 - val_accuracy: 0.0000e+00\n",
            "Epoch 77/200\n",
            "1/1 [==============================] - 1s 1s/step - loss: 0.2376 - accuracy: 0.8824 - val_loss: 1.6679 - val_accuracy: 0.0000e+00\n",
            "Epoch 78/200\n",
            "1/1 [==============================] - 2s 2s/step - loss: 0.2442 - accuracy: 0.8824 - val_loss: 1.6786 - val_accuracy: 0.0000e+00\n",
            "Epoch 79/200\n",
            "1/1 [==============================] - 3s 3s/step - loss: 0.2445 - accuracy: 0.8824 - val_loss: 1.7059 - val_accuracy: 0.0000e+00\n",
            "Epoch 80/200\n",
            "1/1 [==============================] - 2s 2s/step - loss: 0.2485 - accuracy: 0.8235 - val_loss: 1.6927 - val_accuracy: 0.0000e+00\n",
            "Epoch 81/200\n",
            "1/1 [==============================] - 1s 1s/step - loss: 0.2507 - accuracy: 0.7647 - val_loss: 1.6854 - val_accuracy: 0.0000e+00\n",
            "Epoch 82/200\n",
            "1/1 [==============================] - 1s 1s/step - loss: 0.2439 - accuracy: 0.8824 - val_loss: 1.6649 - val_accuracy: 0.0000e+00\n",
            "Epoch 83/200\n",
            "1/1 [==============================] - 1s 1s/step - loss: 0.2478 - accuracy: 0.8235 - val_loss: 1.6197 - val_accuracy: 0.0000e+00\n",
            "Epoch 84/200\n",
            "1/1 [==============================] - 1s 1s/step - loss: 0.2425 - accuracy: 0.8235 - val_loss: 1.5254 - val_accuracy: 0.0000e+00\n",
            "Epoch 85/200\n",
            "1/1 [==============================] - 1s 1s/step - loss: 0.2437 - accuracy: 0.8235 - val_loss: 1.4639 - val_accuracy: 0.0000e+00\n",
            "Epoch 86/200\n",
            "1/1 [==============================] - 3s 3s/step - loss: 0.2467 - accuracy: 0.8235 - val_loss: 1.4270 - val_accuracy: 0.0000e+00\n",
            "Epoch 87/200\n",
            "1/1 [==============================] - 2s 2s/step - loss: 0.2432 - accuracy: 0.8235 - val_loss: 1.3818 - val_accuracy: 0.0000e+00\n",
            "Epoch 88/200\n",
            "1/1 [==============================] - 1s 1s/step - loss: 0.2472 - accuracy: 0.8235 - val_loss: 1.3409 - val_accuracy: 0.0000e+00\n",
            "Epoch 89/200\n",
            "1/1 [==============================] - 1s 1s/step - loss: 0.2446 - accuracy: 0.8235 - val_loss: 1.3305 - val_accuracy: 0.0000e+00\n",
            "Epoch 90/200\n",
            "1/1 [==============================] - 2s 2s/step - loss: 0.2401 - accuracy: 0.8824 - val_loss: 1.3138 - val_accuracy: 0.0000e+00\n",
            "Epoch 91/200\n",
            "1/1 [==============================] - 1s 1s/step - loss: 0.2489 - accuracy: 0.7647 - val_loss: 1.3131 - val_accuracy: 0.0000e+00\n",
            "Epoch 92/200\n",
            "1/1 [==============================] - 2s 2s/step - loss: 0.2474 - accuracy: 0.7647 - val_loss: 1.2970 - val_accuracy: 0.0000e+00\n",
            "Epoch 93/200\n",
            "1/1 [==============================] - 2s 2s/step - loss: 0.2430 - accuracy: 0.8235 - val_loss: 1.3101 - val_accuracy: 0.0000e+00\n",
            "Epoch 94/200\n",
            "1/1 [==============================] - 1s 1s/step - loss: 0.2446 - accuracy: 0.8235 - val_loss: 1.3315 - val_accuracy: 0.0000e+00\n",
            "Epoch 95/200\n",
            "1/1 [==============================] - 1s 1s/step - loss: 0.2443 - accuracy: 0.7647 - val_loss: 1.3358 - val_accuracy: 0.0000e+00\n",
            "Epoch 96/200\n",
            "1/1 [==============================] - 1s 1s/step - loss: 0.2459 - accuracy: 0.8235 - val_loss: 1.3119 - val_accuracy: 0.0000e+00\n",
            "Epoch 97/200\n",
            "1/1 [==============================] - 1s 1s/step - loss: 0.2448 - accuracy: 0.7647 - val_loss: 1.2620 - val_accuracy: 0.0000e+00\n",
            "Epoch 98/200\n",
            "1/1 [==============================] - 2s 2s/step - loss: 0.2517 - accuracy: 0.7647 - val_loss: 1.2365 - val_accuracy: 0.0000e+00\n",
            "Epoch 99/200\n",
            "1/1 [==============================] - 2s 2s/step - loss: 0.2418 - accuracy: 0.8824 - val_loss: 1.2315 - val_accuracy: 0.0000e+00\n",
            "Epoch 100/200\n",
            "1/1 [==============================] - 1s 1s/step - loss: 0.2459 - accuracy: 0.7647 - val_loss: 1.2549 - val_accuracy: 0.0000e+00\n",
            "Epoch 101/200\n",
            "1/1 [==============================] - 1s 1s/step - loss: 0.2451 - accuracy: 0.8235 - val_loss: 1.2794 - val_accuracy: 0.0000e+00\n",
            "Epoch 102/200\n",
            "1/1 [==============================] - 1s 1s/step - loss: 0.2474 - accuracy: 0.8235 - val_loss: 1.2833 - val_accuracy: 0.0000e+00\n",
            "Epoch 103/200\n",
            "1/1 [==============================] - 2s 2s/step - loss: 0.2432 - accuracy: 0.8824 - val_loss: 1.2504 - val_accuracy: 0.0000e+00\n",
            "Epoch 104/200\n",
            "1/1 [==============================] - 2s 2s/step - loss: 0.2599 - accuracy: 0.7059 - val_loss: 1.2254 - val_accuracy: 0.0000e+00\n",
            "Epoch 105/200\n",
            "1/1 [==============================] - 1s 1s/step - loss: 0.2440 - accuracy: 0.8235 - val_loss: 1.2133 - val_accuracy: 0.0000e+00\n",
            "Epoch 106/200\n",
            "1/1 [==============================] - 1s 1s/step - loss: 0.2337 - accuracy: 0.8235 - val_loss: 1.2409 - val_accuracy: 0.0000e+00\n",
            "Epoch 107/200\n",
            "1/1 [==============================] - 1s 1s/step - loss: 0.2591 - accuracy: 0.7647 - val_loss: 1.2737 - val_accuracy: 0.0000e+00\n",
            "Epoch 108/200\n",
            "1/1 [==============================] - 1s 1s/step - loss: 0.2420 - accuracy: 0.8824 - val_loss: 1.2844 - val_accuracy: 0.0000e+00\n",
            "Epoch 109/200\n",
            "1/1 [==============================] - 1s 1s/step - loss: 0.2466 - accuracy: 0.8235 - val_loss: 1.2540 - val_accuracy: 0.0000e+00\n",
            "Epoch 110/200\n",
            "1/1 [==============================] - 1s 1s/step - loss: 0.2523 - accuracy: 0.7647 - val_loss: 1.2221 - val_accuracy: 0.0000e+00\n",
            "Epoch 111/200\n",
            "1/1 [==============================] - 2s 2s/step - loss: 0.2417 - accuracy: 0.8824 - val_loss: 1.1971 - val_accuracy: 0.0000e+00\n",
            "Epoch 112/200\n",
            "1/1 [==============================] - 3s 3s/step - loss: 0.2525 - accuracy: 0.8235 - val_loss: 1.2226 - val_accuracy: 0.0000e+00\n",
            "Epoch 113/200\n",
            "1/1 [==============================] - 1s 1s/step - loss: 0.2542 - accuracy: 0.8235 - val_loss: 1.2972 - val_accuracy: 0.0000e+00\n",
            "Epoch 114/200\n",
            "1/1 [==============================] - 1s 1s/step - loss: 0.2502 - accuracy: 0.7647 - val_loss: 1.3644 - val_accuracy: 0.0000e+00\n",
            "Epoch 115/200\n",
            "1/1 [==============================] - 1s 1s/step - loss: 0.2476 - accuracy: 0.8235 - val_loss: 1.3793 - val_accuracy: 0.0000e+00\n",
            "Epoch 116/200\n",
            "1/1 [==============================] - 1s 1s/step - loss: 0.2454 - accuracy: 0.8235 - val_loss: 1.3504 - val_accuracy: 0.0000e+00\n",
            "Epoch 117/200\n",
            "1/1 [==============================] - 2s 2s/step - loss: 0.2470 - accuracy: 0.8235 - val_loss: 1.3209 - val_accuracy: 0.0000e+00\n",
            "Epoch 118/200\n",
            "1/1 [==============================] - 2s 2s/step - loss: 0.2373 - accuracy: 0.8824 - val_loss: 1.3121 - val_accuracy: 0.0000e+00\n",
            "Epoch 119/200\n",
            "1/1 [==============================] - 1s 1s/step - loss: 0.2430 - accuracy: 0.8824 - val_loss: 1.3502 - val_accuracy: 0.0000e+00\n",
            "Epoch 120/200\n",
            "1/1 [==============================] - 1s 1s/step - loss: 0.2386 - accuracy: 0.8824 - val_loss: 1.3838 - val_accuracy: 0.0000e+00\n",
            "Epoch 121/200\n",
            "1/1 [==============================] - 2s 2s/step - loss: 0.2547 - accuracy: 0.7647 - val_loss: 1.4256 - val_accuracy: 0.0000e+00\n",
            "Epoch 122/200\n",
            "1/1 [==============================] - 1s 1s/step - loss: 0.2429 - accuracy: 0.8824 - val_loss: 1.4300 - val_accuracy: 0.0000e+00\n",
            "Epoch 123/200\n",
            "1/1 [==============================] - 1s 1s/step - loss: 0.2574 - accuracy: 0.8235 - val_loss: 1.3949 - val_accuracy: 0.0000e+00\n",
            "Epoch 124/200\n",
            "1/1 [==============================] - 2s 2s/step - loss: 0.2402 - accuracy: 0.8824 - val_loss: 1.3778 - val_accuracy: 0.0000e+00\n",
            "Epoch 125/200\n",
            "1/1 [==============================] - 2s 2s/step - loss: 0.2475 - accuracy: 0.8235 - val_loss: 1.3704 - val_accuracy: 0.0000e+00\n",
            "Epoch 126/200\n",
            "1/1 [==============================] - 1s 1s/step - loss: 0.2402 - accuracy: 0.8824 - val_loss: 1.3795 - val_accuracy: 0.0000e+00\n",
            "Epoch 127/200\n",
            "1/1 [==============================] - 1s 1s/step - loss: 0.2459 - accuracy: 0.8235 - val_loss: 1.3808 - val_accuracy: 0.0000e+00\n",
            "Epoch 128/200\n",
            "1/1 [==============================] - 1s 1s/step - loss: 0.2480 - accuracy: 0.7647 - val_loss: 1.3817 - val_accuracy: 0.0000e+00\n",
            "Epoch 129/200\n",
            "1/1 [==============================] - 1s 1s/step - loss: 0.2365 - accuracy: 0.9412 - val_loss: 1.3683 - val_accuracy: 0.0000e+00\n",
            "Epoch 130/200\n",
            "1/1 [==============================] - 2s 2s/step - loss: 0.2469 - accuracy: 0.8824 - val_loss: 1.3508 - val_accuracy: 0.0000e+00\n",
            "Epoch 131/200\n",
            "1/1 [==============================] - 3s 3s/step - loss: 0.2467 - accuracy: 0.7059 - val_loss: 1.3470 - val_accuracy: 0.0000e+00\n",
            "Epoch 132/200\n",
            "1/1 [==============================] - 1s 1s/step - loss: 0.2432 - accuracy: 0.8824 - val_loss: 1.3673 - val_accuracy: 0.0000e+00\n",
            "Epoch 133/200\n",
            "1/1 [==============================] - 1s 1s/step - loss: 0.2493 - accuracy: 0.8235 - val_loss: 1.3831 - val_accuracy: 0.0000e+00\n",
            "Epoch 134/200\n",
            "1/1 [==============================] - 1s 1s/step - loss: 0.2445 - accuracy: 0.8824 - val_loss: 1.3935 - val_accuracy: 0.0000e+00\n",
            "Epoch 135/200\n",
            "1/1 [==============================] - 1s 1s/step - loss: 0.2443 - accuracy: 0.8235 - val_loss: 1.3710 - val_accuracy: 0.0000e+00\n",
            "Epoch 136/200\n",
            "1/1 [==============================] - 2s 2s/step - loss: 0.2423 - accuracy: 0.8235 - val_loss: 1.3459 - val_accuracy: 0.0000e+00\n",
            "Epoch 137/200\n",
            "1/1 [==============================] - 3s 3s/step - loss: 0.2404 - accuracy: 0.8235 - val_loss: 1.3137 - val_accuracy: 0.0000e+00\n",
            "Epoch 138/200\n",
            "1/1 [==============================] - 1s 1s/step - loss: 0.2384 - accuracy: 0.8824 - val_loss: 1.2996 - val_accuracy: 0.0000e+00\n",
            "Epoch 139/200\n",
            "1/1 [==============================] - 1s 1s/step - loss: 0.2469 - accuracy: 0.7647 - val_loss: 1.3127 - val_accuracy: 0.0000e+00\n",
            "Epoch 140/200\n",
            "1/1 [==============================] - 1s 1s/step - loss: 0.2531 - accuracy: 0.7647 - val_loss: 1.3099 - val_accuracy: 0.0000e+00\n",
            "Epoch 141/200\n",
            "1/1 [==============================] - 1s 1s/step - loss: 0.2392 - accuracy: 0.8235 - val_loss: 1.3082 - val_accuracy: 0.0000e+00\n",
            "Epoch 142/200\n",
            "1/1 [==============================] - 2s 2s/step - loss: 0.2372 - accuracy: 0.9412 - val_loss: 1.3080 - val_accuracy: 0.0000e+00\n",
            "Epoch 143/200\n",
            "1/1 [==============================] - 2s 2s/step - loss: 0.2404 - accuracy: 0.8824 - val_loss: 1.3134 - val_accuracy: 0.0000e+00\n",
            "Epoch 144/200\n",
            "1/1 [==============================] - 2s 2s/step - loss: 0.2364 - accuracy: 0.9412 - val_loss: 1.3272 - val_accuracy: 0.0000e+00\n",
            "Epoch 145/200\n",
            "1/1 [==============================] - 1s 1s/step - loss: 0.2471 - accuracy: 0.7647 - val_loss: 1.3319 - val_accuracy: 0.0000e+00\n",
            "Epoch 146/200\n",
            "1/1 [==============================] - 1s 1s/step - loss: 0.2507 - accuracy: 0.7647 - val_loss: 1.3273 - val_accuracy: 0.0000e+00\n",
            "Epoch 147/200\n",
            "1/1 [==============================] - 1s 1s/step - loss: 0.2409 - accuracy: 0.8235 - val_loss: 1.3159 - val_accuracy: 0.0000e+00\n",
            "Epoch 148/200\n",
            "1/1 [==============================] - 1s 1s/step - loss: 0.2435 - accuracy: 0.8824 - val_loss: 1.3516 - val_accuracy: 0.0000e+00\n",
            "Epoch 149/200\n",
            "1/1 [==============================] - 2s 2s/step - loss: 0.2384 - accuracy: 0.9412 - val_loss: 1.3615 - val_accuracy: 0.0000e+00\n",
            "Epoch 150/200\n",
            "1/1 [==============================] - 2s 2s/step - loss: 0.2505 - accuracy: 0.7647 - val_loss: 1.3618 - val_accuracy: 0.0000e+00\n",
            "Epoch 151/200\n",
            "1/1 [==============================] - 2s 2s/step - loss: 0.2471 - accuracy: 0.7647 - val_loss: 1.3771 - val_accuracy: 0.0000e+00\n",
            "Epoch 152/200\n",
            "1/1 [==============================] - 1s 1s/step - loss: 0.2317 - accuracy: 0.8235 - val_loss: 1.4418 - val_accuracy: 0.0000e+00\n",
            "Epoch 153/200\n",
            "1/1 [==============================] - 1s 1s/step - loss: 0.2397 - accuracy: 0.7647 - val_loss: 1.5099 - val_accuracy: 0.0000e+00\n",
            "Epoch 154/200\n",
            "1/1 [==============================] - 1s 1s/step - loss: 0.2464 - accuracy: 0.8235 - val_loss: 1.5035 - val_accuracy: 0.0000e+00\n",
            "Epoch 155/200\n",
            "1/1 [==============================] - 1s 1s/step - loss: 0.2389 - accuracy: 0.8824 - val_loss: 1.5370 - val_accuracy: 0.0000e+00\n",
            "Epoch 156/200\n",
            "1/1 [==============================] - 2s 2s/step - loss: 0.2362 - accuracy: 0.8824 - val_loss: 1.5629 - val_accuracy: 0.0000e+00\n",
            "Epoch 157/200\n",
            "1/1 [==============================] - 3s 3s/step - loss: 0.2657 - accuracy: 0.7647 - val_loss: 1.6062 - val_accuracy: 0.0000e+00\n",
            "Epoch 158/200\n",
            "1/1 [==============================] - 2s 2s/step - loss: 0.2516 - accuracy: 0.7647 - val_loss: 1.6466 - val_accuracy: 0.0000e+00\n",
            "Epoch 159/200\n",
            "1/1 [==============================] - 1s 1s/step - loss: 0.2443 - accuracy: 0.8235 - val_loss: 1.6578 - val_accuracy: 0.0000e+00\n",
            "Epoch 160/200\n",
            "1/1 [==============================] - 1s 1s/step - loss: 0.2492 - accuracy: 0.8235 - val_loss: 1.6922 - val_accuracy: 0.0000e+00\n",
            "Epoch 161/200\n",
            "1/1 [==============================] - 1s 1s/step - loss: 0.2422 - accuracy: 0.8824 - val_loss: 1.7926 - val_accuracy: 0.0000e+00\n",
            "Epoch 162/200\n",
            "1/1 [==============================] - 1s 1s/step - loss: 0.2405 - accuracy: 0.8824 - val_loss: 1.8331 - val_accuracy: 0.0000e+00\n",
            "Epoch 163/200\n",
            "1/1 [==============================] - 2s 2s/step - loss: 0.2527 - accuracy: 0.7647 - val_loss: 1.9059 - val_accuracy: 0.0000e+00\n",
            "Epoch 164/200\n",
            "1/1 [==============================] - 3s 3s/step - loss: 0.2484 - accuracy: 0.8824 - val_loss: 1.9471 - val_accuracy: 0.0000e+00\n",
            "Epoch 165/200\n",
            "1/1 [==============================] - 1s 1s/step - loss: 0.2505 - accuracy: 0.7647 - val_loss: 1.9828 - val_accuracy: 0.0000e+00\n",
            "Epoch 166/200\n",
            "1/1 [==============================] - 1s 1s/step - loss: 0.2490 - accuracy: 0.8235 - val_loss: 1.9395 - val_accuracy: 0.0000e+00\n",
            "Epoch 167/200\n",
            "1/1 [==============================] - 1s 1s/step - loss: 0.2520 - accuracy: 0.8235 - val_loss: 1.9360 - val_accuracy: 0.0000e+00\n",
            "Epoch 168/200\n",
            "1/1 [==============================] - 2s 2s/step - loss: 0.2361 - accuracy: 0.8235 - val_loss: 2.0076 - val_accuracy: 0.0000e+00\n",
            "Epoch 169/200\n",
            "1/1 [==============================] - 2s 2s/step - loss: 0.2486 - accuracy: 0.8824 - val_loss: 2.0714 - val_accuracy: 0.0000e+00\n",
            "Epoch 170/200\n",
            "1/1 [==============================] - 3s 3s/step - loss: 0.2393 - accuracy: 0.8235 - val_loss: 2.1281 - val_accuracy: 0.0000e+00\n",
            "Epoch 171/200\n",
            "1/1 [==============================] - 1s 1s/step - loss: 0.2467 - accuracy: 0.8235 - val_loss: 2.0355 - val_accuracy: 0.0000e+00\n",
            "Epoch 172/200\n",
            "1/1 [==============================] - 1s 1s/step - loss: 0.2346 - accuracy: 0.8824 - val_loss: 2.0274 - val_accuracy: 0.0000e+00\n",
            "Epoch 173/200\n",
            "1/1 [==============================] - 1s 1s/step - loss: 0.2464 - accuracy: 0.8235 - val_loss: 2.1202 - val_accuracy: 0.0000e+00\n",
            "Epoch 174/200\n",
            "1/1 [==============================] - 1s 1s/step - loss: 0.2445 - accuracy: 0.8235 - val_loss: 2.2223 - val_accuracy: 0.0000e+00\n",
            "Epoch 175/200\n",
            "1/1 [==============================] - 2s 2s/step - loss: 0.2430 - accuracy: 0.8235 - val_loss: 2.2299 - val_accuracy: 0.0000e+00\n",
            "Epoch 176/200\n",
            "1/1 [==============================] - 6s 6s/step - loss: 0.2445 - accuracy: 0.8235 - val_loss: 2.1507 - val_accuracy: 0.0000e+00\n",
            "Epoch 177/200\n",
            "1/1 [==============================] - 3s 3s/step - loss: 0.2356 - accuracy: 0.9412 - val_loss: 2.1327 - val_accuracy: 0.0000e+00\n",
            "Epoch 178/200\n",
            "1/1 [==============================] - 2s 2s/step - loss: 0.2505 - accuracy: 0.8235 - val_loss: 2.1733 - val_accuracy: 0.0000e+00\n",
            "Epoch 179/200\n",
            "1/1 [==============================] - 2s 2s/step - loss: 0.2498 - accuracy: 0.7647 - val_loss: 2.2052 - val_accuracy: 0.0000e+00\n",
            "Epoch 180/200\n",
            "1/1 [==============================] - 3s 3s/step - loss: 0.2369 - accuracy: 0.8235 - val_loss: 2.2984 - val_accuracy: 0.0000e+00\n",
            "Epoch 181/200\n",
            "1/1 [==============================] - 2s 2s/step - loss: 0.2454 - accuracy: 0.7647 - val_loss: 2.4019 - val_accuracy: 0.0000e+00\n",
            "Epoch 182/200\n",
            "1/1 [==============================] - 1s 1s/step - loss: 0.2554 - accuracy: 0.7647 - val_loss: 2.3973 - val_accuracy: 0.0000e+00\n",
            "Epoch 183/200\n",
            "1/1 [==============================] - 1s 1s/step - loss: 0.2394 - accuracy: 0.8235 - val_loss: 2.2689 - val_accuracy: 0.0000e+00\n",
            "Epoch 184/200\n",
            "1/1 [==============================] - 1s 1s/step - loss: 0.2470 - accuracy: 0.8235 - val_loss: 2.1861 - val_accuracy: 0.0000e+00\n",
            "Epoch 185/200\n",
            "1/1 [==============================] - 1s 1s/step - loss: 0.2470 - accuracy: 0.8235 - val_loss: 2.1952 - val_accuracy: 0.0000e+00\n",
            "Epoch 186/200\n",
            "1/1 [==============================] - 1s 1s/step - loss: 0.2464 - accuracy: 0.7647 - val_loss: 2.2871 - val_accuracy: 0.0000e+00\n",
            "Epoch 187/200\n",
            "1/1 [==============================] - 2s 2s/step - loss: 0.2562 - accuracy: 0.7647 - val_loss: 2.3804 - val_accuracy: 0.0000e+00\n",
            "Epoch 188/200\n",
            "1/1 [==============================] - 3s 3s/step - loss: 0.2633 - accuracy: 0.8235 - val_loss: 2.3656 - val_accuracy: 0.0000e+00\n",
            "Epoch 189/200\n",
            "1/1 [==============================] - 1s 1s/step - loss: 0.2498 - accuracy: 0.8235 - val_loss: 2.3054 - val_accuracy: 0.0000e+00\n",
            "Epoch 190/200\n",
            "1/1 [==============================] - 1s 1s/step - loss: 0.2358 - accuracy: 0.8824 - val_loss: 2.2558 - val_accuracy: 0.0000e+00\n",
            "Epoch 191/200\n",
            "1/1 [==============================] - 1s 1s/step - loss: 0.2505 - accuracy: 0.8824 - val_loss: 2.2570 - val_accuracy: 0.0000e+00\n",
            "Epoch 192/200\n",
            "1/1 [==============================] - 1s 1s/step - loss: 0.2452 - accuracy: 0.8235 - val_loss: 2.3050 - val_accuracy: 0.0000e+00\n",
            "Epoch 193/200\n",
            "1/1 [==============================] - 2s 2s/step - loss: 0.2297 - accuracy: 0.9412 - val_loss: 2.3275 - val_accuracy: 0.0000e+00\n",
            "Epoch 194/200\n",
            "1/1 [==============================] - 3s 3s/step - loss: 0.2503 - accuracy: 0.8235 - val_loss: 2.2502 - val_accuracy: 0.0000e+00\n",
            "Epoch 195/200\n",
            "1/1 [==============================] - 1s 1s/step - loss: 0.2482 - accuracy: 0.8235 - val_loss: 2.1332 - val_accuracy: 0.0000e+00\n",
            "Epoch 196/200\n",
            "1/1 [==============================] - 1s 1s/step - loss: 0.2296 - accuracy: 0.8824 - val_loss: 2.0780 - val_accuracy: 0.0000e+00\n",
            "Epoch 197/200\n",
            "1/1 [==============================] - 1s 1s/step - loss: 0.2514 - accuracy: 0.8235 - val_loss: 2.1913 - val_accuracy: 0.0000e+00\n",
            "Epoch 198/200\n",
            "1/1 [==============================] - 1s 1s/step - loss: 0.2505 - accuracy: 0.8235 - val_loss: 2.3189 - val_accuracy: 0.0000e+00\n",
            "Epoch 199/200\n",
            "1/1 [==============================] - 1s 1s/step - loss: 0.2587 - accuracy: 0.7647 - val_loss: 2.3462 - val_accuracy: 0.0000e+00\n",
            "Epoch 200/200\n",
            "1/1 [==============================] - 2s 2s/step - loss: 0.2576 - accuracy: 0.8235 - val_loss: 2.1703 - val_accuracy: 0.0000e+00\n"
          ]
        }
      ]
    },
    {
      "cell_type": "code",
      "source": [
        "y_vloss = history.history['val_loss'] \n",
        "y_loss = history.history['loss'] \n",
        "y_acc = history.history['accuracy'] \n",
        "y_vacc = history.history['val_accuracy'] "
      ],
      "metadata": {
        "id": "_dPIq4T1aKM1"
      },
      "execution_count": 11,
      "outputs": []
    },
    {
      "cell_type": "code",
      "source": [
        "fig, (ax1, ax2) = plt.subplots (1, 2) \n",
        "ax1.plot(np.arange (len (y_vloss)), y_vloss, marker='.', c='red') \n",
        "ax1.plot(np.arange (len (y_loss)), y_loss, marker='.', c='blue') \n",
        "ax1.grid() \n",
        "plt.setp(ax1, xlabel='epoch', ylabel='loss')\n",
        "\n",
        "ax2.plot(np.arange (len (y_vacc)), y_vacc, marker='.', c='red') \n",
        "ax2.plot(np.arange (len (y_acc)), y_acc, marker='.', c='blue') \n",
        "ax2.grid() \n",
        "plt.setp(ax2, xlabel='epoch', ylabel='accuracy') \n",
        "\n",
        "plt.show()"
      ],
      "metadata": {
        "colab": {
          "base_uri": "https://localhost:8080/",
          "height": 449
        },
        "id": "0qmMWng1aQ2m",
        "outputId": "d0ea5e1d-3e47-4a14-9a03-3b979a4ae820"
      },
      "execution_count": 12,
      "outputs": [
        {
          "output_type": "display_data",
          "data": {
            "text/plain": [
              "<Figure size 640x480 with 2 Axes>"
            ],
            "image/png": "[encoded data removed]"
          },
          "metadata": {}
        }
      ]
    }
  ]
}