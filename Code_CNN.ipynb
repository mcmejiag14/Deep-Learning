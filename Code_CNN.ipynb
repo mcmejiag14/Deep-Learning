{
  "nbformat": 4,
  "nbformat_minor": 0,
  "metadata": {
    "colab": {
      "provenance": [],
      "authorship_tag": "ABX9TyMW2vdCxsYw2otG2dRBF5hh",
      "include_colab_link": true
    },
    "kernelspec": {
      "name": "python3",
      "display_name": "Python 3"
    },
    "language_info": {
      "name": "python"
    },
    "accelerator": "GPU",
    "gpuClass": "standard"
  },
  "cells": [
    {
      "cell_type": "markdown",
      "metadata": {
        "id": "view-in-github",
        "colab_type": "text"
      },
      "source": [
        "<a href=\"https://colab.research.google.com/github/mcmejiag14/Deep-Learning/blob/main/Code_CNN.ipynb\" target=\"_parent\"><img src=\"https://colab.research.google.com/assets/colab-badge.svg\" alt=\"Open In Colab\"/></a>"
      ]
    },
    {
      "cell_type": "code",
      "execution_count": 1,
      "metadata": {
        "id": "3VRcHkTYewda",
        "colab": {
          "base_uri": "https://localhost:8080/"
        },
        "outputId": "ad169f87-54e3-400a-c012-f80ec3b0ec8d"
      },
      "outputs": [
        {
          "output_type": "stream",
          "name": "stdout",
          "text": [
            "Mounted at /content/drive\n"
          ]
        }
      ],
      "source": [
        "from google.colab import drive\n",
        "drive.mount('/content/drive')"
      ]
    },
    {
      "cell_type": "code",
      "source": [
        "import tensorflow as tf \n",
        "from tensorflow import keras\n",
        "from keras import Sequential\n",
        "from tensorflow.keras import layers \n",
        "from tensorflow.keras.callbacks import EarlyStopping \n",
        "from keras.layers import Dense,Conv2D,MaxPooling2D,Flatten,BatchNormalization,Dropout\n",
        "import pathlib \n",
        "import matplotlib.pyplot as plt "
      ],
      "metadata": {
        "id": "l35BdRmJ4V7i"
      },
      "execution_count": 15,
      "outputs": []
    },
    {
      "cell_type": "code",
      "source": [
        "data_dir = '/content/drive/MyDrive/Data 2' \n",
        "data_dir = pathlib.Path(data_dir) "
      ],
      "metadata": {
        "id": "YsZpzCvr5B0y"
      },
      "execution_count": 3,
      "outputs": []
    },
    {
      "cell_type": "code",
      "source": [
        "# generators Training \n",
        "train_ds = tf.keras.preprocessing.image_dataset_from_directory(data_dir, \n",
        "    validation_split=0.1, \n",
        "    subset=\"training\",  \n",
        "    seed=123, image_size=(256, 256), \n",
        "    batch_size=128) "
      ],
      "metadata": {
        "colab": {
          "base_uri": "https://localhost:8080/"
        },
        "id": "SC79MhQe5Q-L",
        "outputId": "326399be-55f3-469a-afa4-e01bb26b7e51"
      },
      "execution_count": 6,
      "outputs": [
        {
          "output_type": "stream",
          "name": "stdout",
          "text": [
            "Found 18 files belonging to 4 classes.\n",
            "Using 17 files for training.\n"
          ]
        }
      ]
    },
    {
      "cell_type": "code",
      "source": [
        "# Now we are foing to do the validation data\n",
        "val_ds = tf.keras.preprocessing.image_dataset_from_directory(data_dir, \n",
        "     validation_split=0.2, \n",
        "     subset=\"validation\", \n",
        "     seed=123, \n",
        "     image_size=(256, 256), \n",
        "     batch_size=128) \n",
        " \n",
        "class_names = train_ds.class_names\n",
        "print(class_names)"
      ],
      "metadata": {
        "colab": {
          "base_uri": "https://localhost:8080/"
        },
        "id": "M9pJ87kr54aY",
        "outputId": "20e4abcd-1c01-4bf4-e674-c54e39896148"
      },
      "execution_count": 7,
      "outputs": [
        {
          "output_type": "stream",
          "name": "stdout",
          "text": [
            "Found 18 files belonging to 4 classes.\n",
            "Using 3 files for validation.\n",
            "['Control', 'Tat + cART', 'Tat 10', 'cART']\n"
          ]
        }
      ]
    },
    {
      "cell_type": "code",
      "source": [
        "## Now we are going to construct a CNN model\n",
        "model = Sequential()\n",
        "## Convolutional Layers with 32,64 and 128 filters respectively\n",
        "model.add(Conv2D(32,kernel_size=(3,3),padding='valid',activation='relu',input_shape=(256,256,3)))\n",
        "model.add(BatchNormalization())\n",
        "model.add(MaxPooling2D(pool_size=(2,2),strides=2,padding='valid'))\n",
        "\n",
        "model.add(Conv2D(64,kernel_size=(3,3),padding='valid',activation='relu'))\n",
        "model.add(BatchNormalization())\n",
        "model.add(MaxPooling2D(pool_size=(2,2),strides=2,padding='valid'))\n",
        "\n",
        "model.add(Conv2D(128,kernel_size=(3,3),padding='valid',activation='relu',input_shape=(256,256,3)))\n",
        "model.add(BatchNormalization())\n",
        "model.add(MaxPooling2D(pool_size=(2,2),strides=2,padding='valid'))\n",
        "\n",
        "model.add(Flatten())\n",
        "### Activation function= relu and 128 neurons\n",
        "model.add(Dense(128,activation='relu'))\n",
        "model.add(Dropout(0.1))\n",
        "model.add(Dense(64,activation='relu'))\n",
        "model.add(Dropout(0.1))\n",
        "model.add(Dense(1,activation='sigmoid'))"
      ],
      "metadata": {
        "id": "yYGZbdFv6Vo1"
      },
      "execution_count": 17,
      "outputs": []
    },
    {
      "cell_type": "code",
      "source": [
        "model.summary()"
      ],
      "metadata": {
        "colab": {
          "base_uri": "https://localhost:8080/"
        },
        "id": "q8SDCfvO78Zg",
        "outputId": "90a68786-ef81-450e-d557-5b862b03d409"
      },
      "execution_count": 18,
      "outputs": [
        {
          "output_type": "stream",
          "name": "stdout",
          "text": [
            "Model: \"sequential_2\"\n",
            "_________________________________________________________________\n",
            " Layer (type)                Output Shape              Param #   \n",
            "=================================================================\n",
            " conv2d_6 (Conv2D)           (None, 254, 254, 32)      896       \n",
            "                                                                 \n",
            " batch_normalization_3 (Batc  (None, 254, 254, 32)     128       \n",
            " hNormalization)                                                 \n",
            "                                                                 \n",
            " max_pooling2d_6 (MaxPooling  (None, 127, 127, 32)     0         \n",
            " 2D)                                                             \n",
            "                                                                 \n",
            " conv2d_7 (Conv2D)           (None, 125, 125, 64)      18496     \n",
            "                                                                 \n",
            " batch_normalization_4 (Batc  (None, 125, 125, 64)     256       \n",
            " hNormalization)                                                 \n",
            "                                                                 \n",
            " max_pooling2d_7 (MaxPooling  (None, 62, 62, 64)       0         \n",
            " 2D)                                                             \n",
            "                                                                 \n",
            " conv2d_8 (Conv2D)           (None, 60, 60, 128)       73856     \n",
            "                                                                 \n",
            " batch_normalization_5 (Batc  (None, 60, 60, 128)      512       \n",
            " hNormalization)                                                 \n",
            "                                                                 \n",
            " max_pooling2d_8 (MaxPooling  (None, 30, 30, 128)      0         \n",
            " 2D)                                                             \n",
            "                                                                 \n",
            " flatten_2 (Flatten)         (None, 115200)            0         \n",
            "                                                                 \n",
            " dense_6 (Dense)             (None, 128)               14745728  \n",
            "                                                                 \n",
            " dropout (Dropout)           (None, 128)               0         \n",
            "                                                                 \n",
            " dense_7 (Dense)             (None, 64)                8256      \n",
            "                                                                 \n",
            " dropout_1 (Dropout)         (None, 64)                0         \n",
            "                                                                 \n",
            " dense_8 (Dense)             (None, 1)                 65        \n",
            "                                                                 \n",
            "=================================================================\n",
            "Total params: 14,848,193\n",
            "Trainable params: 14,847,745\n",
            "Non-trainable params: 448\n",
            "_________________________________________________________________\n"
          ]
        }
      ]
    },
    {
      "cell_type": "code",
      "source": [
        "model.compile(optimizer='adam',loss='categorical_crossentropy',metrics=['accuracy'])"
      ],
      "metadata": {
        "id": "sQtnNN_38EkO"
      },
      "execution_count": 19,
      "outputs": []
    },
    {
      "cell_type": "code",
      "source": [
        "history = model.fit(train_ds,epochs=100,validation_data=val_ds)"
      ],
      "metadata": {
        "colab": {
          "base_uri": "https://localhost:8080/"
        },
        "id": "7xMWfCO9-M9H",
        "outputId": "2e5b2d18-76f9-4eac-c9d4-b23dfb918b4c"
      },
      "execution_count": 20,
      "outputs": [
        {
          "output_type": "stream",
          "name": "stdout",
          "text": [
            "Epoch 1/100\n"
          ]
        },
        {
          "output_type": "stream",
          "name": "stderr",
          "text": [
            "/usr/local/lib/python3.10/dist-packages/tensorflow/python/util/dispatch.py:1176: SyntaxWarning: In loss categorical_crossentropy, expected y_pred.shape to be (batch_size, num_classes) with num_classes > 1. Received: y_pred.shape=(None, 1). Consider using 'binary_crossentropy' if you only have 2 classes.\n",
            "  return dispatch_target(*args, **kwargs)\n"
          ]
        },
        {
          "output_type": "stream",
          "name": "stdout",
          "text": [
            "1/1 [==============================] - 4s 4s/step - loss: 0.0000e+00 - accuracy: 0.2941 - val_loss: 0.0000e+00 - val_accuracy: 0.3333\n",
            "Epoch 2/100\n",
            "1/1 [==============================] - 0s 212ms/step - loss: 0.0000e+00 - accuracy: 0.4706 - val_loss: 0.0000e+00 - val_accuracy: 0.3333\n",
            "Epoch 3/100\n",
            "1/1 [==============================] - 0s 218ms/step - loss: 0.0000e+00 - accuracy: 0.5294 - val_loss: 0.0000e+00 - val_accuracy: 0.3333\n",
            "Epoch 4/100\n",
            "1/1 [==============================] - 0s 211ms/step - loss: 0.0000e+00 - accuracy: 0.5294 - val_loss: 0.0000e+00 - val_accuracy: 0.3333\n",
            "Epoch 5/100\n",
            "1/1 [==============================] - 0s 211ms/step - loss: 0.0000e+00 - accuracy: 0.5294 - val_loss: 0.0000e+00 - val_accuracy: 0.3333\n",
            "Epoch 6/100\n",
            "1/1 [==============================] - 0s 212ms/step - loss: 0.0000e+00 - accuracy: 0.5294 - val_loss: 0.0000e+00 - val_accuracy: 0.3333\n",
            "Epoch 7/100\n",
            "1/1 [==============================] - 0s 218ms/step - loss: 0.0000e+00 - accuracy: 0.5294 - val_loss: 0.0000e+00 - val_accuracy: 0.3333\n",
            "Epoch 8/100\n",
            "1/1 [==============================] - 0s 216ms/step - loss: 0.0000e+00 - accuracy: 0.5294 - val_loss: 0.0000e+00 - val_accuracy: 0.3333\n",
            "Epoch 9/100\n",
            "1/1 [==============================] - 0s 213ms/step - loss: 0.0000e+00 - accuracy: 0.5294 - val_loss: 0.0000e+00 - val_accuracy: 0.3333\n",
            "Epoch 10/100\n",
            "1/1 [==============================] - 0s 228ms/step - loss: 0.0000e+00 - accuracy: 0.5294 - val_loss: 0.0000e+00 - val_accuracy: 0.3333\n",
            "Epoch 11/100\n",
            "1/1 [==============================] - 0s 219ms/step - loss: 0.0000e+00 - accuracy: 0.5294 - val_loss: 0.0000e+00 - val_accuracy: 0.3333\n",
            "Epoch 12/100\n",
            "1/1 [==============================] - 0s 225ms/step - loss: 0.0000e+00 - accuracy: 0.5294 - val_loss: 0.0000e+00 - val_accuracy: 0.3333\n",
            "Epoch 13/100\n",
            "1/1 [==============================] - 0s 220ms/step - loss: 0.0000e+00 - accuracy: 0.5294 - val_loss: 0.0000e+00 - val_accuracy: 0.3333\n",
            "Epoch 14/100\n",
            "1/1 [==============================] - 0s 217ms/step - loss: 0.0000e+00 - accuracy: 0.5294 - val_loss: 0.0000e+00 - val_accuracy: 0.3333\n",
            "Epoch 15/100\n",
            "1/1 [==============================] - 0s 212ms/step - loss: 0.0000e+00 - accuracy: 0.5294 - val_loss: 0.0000e+00 - val_accuracy: 0.3333\n",
            "Epoch 16/100\n",
            "1/1 [==============================] - 0s 214ms/step - loss: 0.0000e+00 - accuracy: 0.5294 - val_loss: 0.0000e+00 - val_accuracy: 0.3333\n",
            "Epoch 17/100\n",
            "1/1 [==============================] - 0s 210ms/step - loss: 0.0000e+00 - accuracy: 0.5294 - val_loss: 0.0000e+00 - val_accuracy: 0.3333\n",
            "Epoch 18/100\n",
            "1/1 [==============================] - 0s 228ms/step - loss: 0.0000e+00 - accuracy: 0.5294 - val_loss: 0.0000e+00 - val_accuracy: 0.3333\n",
            "Epoch 19/100\n",
            "1/1 [==============================] - 0s 220ms/step - loss: 0.0000e+00 - accuracy: 0.5294 - val_loss: 0.0000e+00 - val_accuracy: 0.0000e+00\n",
            "Epoch 20/100\n",
            "1/1 [==============================] - 0s 210ms/step - loss: 0.0000e+00 - accuracy: 0.5294 - val_loss: 0.0000e+00 - val_accuracy: 0.0000e+00\n",
            "Epoch 21/100\n",
            "1/1 [==============================] - 0s 220ms/step - loss: 0.0000e+00 - accuracy: 0.5294 - val_loss: 0.0000e+00 - val_accuracy: 0.0000e+00\n",
            "Epoch 22/100\n",
            "1/1 [==============================] - 0s 217ms/step - loss: 0.0000e+00 - accuracy: 0.5294 - val_loss: 0.0000e+00 - val_accuracy: 0.0000e+00\n",
            "Epoch 23/100\n",
            "1/1 [==============================] - 0s 220ms/step - loss: 0.0000e+00 - accuracy: 0.5294 - val_loss: 0.0000e+00 - val_accuracy: 0.0000e+00\n",
            "Epoch 24/100\n",
            "1/1 [==============================] - 0s 242ms/step - loss: 0.0000e+00 - accuracy: 0.5294 - val_loss: 0.0000e+00 - val_accuracy: 0.0000e+00\n",
            "Epoch 25/100\n",
            "1/1 [==============================] - 0s 220ms/step - loss: 0.0000e+00 - accuracy: 0.5294 - val_loss: 0.0000e+00 - val_accuracy: 0.0000e+00\n",
            "Epoch 26/100\n",
            "1/1 [==============================] - 0s 216ms/step - loss: 0.0000e+00 - accuracy: 0.5294 - val_loss: 0.0000e+00 - val_accuracy: 0.0000e+00\n",
            "Epoch 27/100\n",
            "1/1 [==============================] - 0s 219ms/step - loss: 0.0000e+00 - accuracy: 0.5294 - val_loss: 0.0000e+00 - val_accuracy: 0.0000e+00\n",
            "Epoch 28/100\n",
            "1/1 [==============================] - 0s 215ms/step - loss: 0.0000e+00 - accuracy: 0.5294 - val_loss: 0.0000e+00 - val_accuracy: 0.0000e+00\n",
            "Epoch 29/100\n",
            "1/1 [==============================] - 0s 215ms/step - loss: 0.0000e+00 - accuracy: 0.5294 - val_loss: 0.0000e+00 - val_accuracy: 0.0000e+00\n",
            "Epoch 30/100\n",
            "1/1 [==============================] - 0s 218ms/step - loss: 0.0000e+00 - accuracy: 0.5294 - val_loss: 0.0000e+00 - val_accuracy: 0.0000e+00\n",
            "Epoch 31/100\n",
            "1/1 [==============================] - 0s 213ms/step - loss: 0.0000e+00 - accuracy: 0.5294 - val_loss: 0.0000e+00 - val_accuracy: 0.0000e+00\n",
            "Epoch 32/100\n",
            "1/1 [==============================] - 0s 208ms/step - loss: 0.0000e+00 - accuracy: 0.5294 - val_loss: 0.0000e+00 - val_accuracy: 0.0000e+00\n",
            "Epoch 33/100\n",
            "1/1 [==============================] - 0s 210ms/step - loss: 0.0000e+00 - accuracy: 0.5294 - val_loss: 0.0000e+00 - val_accuracy: 0.0000e+00\n",
            "Epoch 34/100\n",
            "1/1 [==============================] - 0s 262ms/step - loss: 0.0000e+00 - accuracy: 0.5294 - val_loss: 0.0000e+00 - val_accuracy: 0.0000e+00\n",
            "Epoch 35/100\n",
            "1/1 [==============================] - 0s 311ms/step - loss: 0.0000e+00 - accuracy: 0.5294 - val_loss: 0.0000e+00 - val_accuracy: 0.0000e+00\n",
            "Epoch 36/100\n",
            "1/1 [==============================] - 0s 332ms/step - loss: 0.0000e+00 - accuracy: 0.5294 - val_loss: 0.0000e+00 - val_accuracy: 0.0000e+00\n",
            "Epoch 37/100\n",
            "1/1 [==============================] - 0s 342ms/step - loss: 0.0000e+00 - accuracy: 0.5294 - val_loss: 0.0000e+00 - val_accuracy: 0.0000e+00\n",
            "Epoch 38/100\n",
            "1/1 [==============================] - 0s 324ms/step - loss: 0.0000e+00 - accuracy: 0.5294 - val_loss: 0.0000e+00 - val_accuracy: 0.0000e+00\n",
            "Epoch 39/100\n",
            "1/1 [==============================] - 0s 302ms/step - loss: 0.0000e+00 - accuracy: 0.5294 - val_loss: 0.0000e+00 - val_accuracy: 0.0000e+00\n",
            "Epoch 40/100\n",
            "1/1 [==============================] - 0s 218ms/step - loss: 0.0000e+00 - accuracy: 0.5294 - val_loss: 0.0000e+00 - val_accuracy: 0.0000e+00\n",
            "Epoch 41/100\n",
            "1/1 [==============================] - 0s 216ms/step - loss: 0.0000e+00 - accuracy: 0.5294 - val_loss: 0.0000e+00 - val_accuracy: 0.0000e+00\n",
            "Epoch 42/100\n",
            "1/1 [==============================] - 0s 221ms/step - loss: 0.0000e+00 - accuracy: 0.5294 - val_loss: 0.0000e+00 - val_accuracy: 0.0000e+00\n",
            "Epoch 43/100\n",
            "1/1 [==============================] - 0s 227ms/step - loss: 0.0000e+00 - accuracy: 0.5294 - val_loss: 0.0000e+00 - val_accuracy: 0.0000e+00\n",
            "Epoch 44/100\n",
            "1/1 [==============================] - 0s 217ms/step - loss: 0.0000e+00 - accuracy: 0.5294 - val_loss: 0.0000e+00 - val_accuracy: 0.0000e+00\n",
            "Epoch 45/100\n",
            "1/1 [==============================] - 0s 213ms/step - loss: 0.0000e+00 - accuracy: 0.5294 - val_loss: 0.0000e+00 - val_accuracy: 0.0000e+00\n",
            "Epoch 46/100\n",
            "1/1 [==============================] - 0s 209ms/step - loss: 0.0000e+00 - accuracy: 0.5294 - val_loss: 0.0000e+00 - val_accuracy: 0.0000e+00\n",
            "Epoch 47/100\n",
            "1/1 [==============================] - 0s 217ms/step - loss: 0.0000e+00 - accuracy: 0.5294 - val_loss: 0.0000e+00 - val_accuracy: 0.0000e+00\n",
            "Epoch 48/100\n",
            "1/1 [==============================] - 0s 230ms/step - loss: 0.0000e+00 - accuracy: 0.5294 - val_loss: 0.0000e+00 - val_accuracy: 0.0000e+00\n",
            "Epoch 49/100\n",
            "1/1 [==============================] - 0s 213ms/step - loss: 0.0000e+00 - accuracy: 0.5294 - val_loss: 0.0000e+00 - val_accuracy: 0.0000e+00\n",
            "Epoch 50/100\n",
            "1/1 [==============================] - 0s 220ms/step - loss: 0.0000e+00 - accuracy: 0.5294 - val_loss: 0.0000e+00 - val_accuracy: 0.0000e+00\n",
            "Epoch 51/100\n",
            "1/1 [==============================] - 0s 217ms/step - loss: 0.0000e+00 - accuracy: 0.5294 - val_loss: 0.0000e+00 - val_accuracy: 0.0000e+00\n",
            "Epoch 52/100\n",
            "1/1 [==============================] - 0s 226ms/step - loss: 0.0000e+00 - accuracy: 0.5294 - val_loss: 0.0000e+00 - val_accuracy: 0.0000e+00\n",
            "Epoch 53/100\n",
            "1/1 [==============================] - 0s 238ms/step - loss: 0.0000e+00 - accuracy: 0.5294 - val_loss: 0.0000e+00 - val_accuracy: 0.0000e+00\n",
            "Epoch 54/100\n",
            "1/1 [==============================] - 0s 211ms/step - loss: 0.0000e+00 - accuracy: 0.5294 - val_loss: 0.0000e+00 - val_accuracy: 0.0000e+00\n",
            "Epoch 55/100\n",
            "1/1 [==============================] - 0s 221ms/step - loss: 0.0000e+00 - accuracy: 0.5294 - val_loss: 0.0000e+00 - val_accuracy: 0.0000e+00\n",
            "Epoch 56/100\n",
            "1/1 [==============================] - 0s 221ms/step - loss: 0.0000e+00 - accuracy: 0.5294 - val_loss: 0.0000e+00 - val_accuracy: 0.0000e+00\n",
            "Epoch 57/100\n",
            "1/1 [==============================] - 0s 216ms/step - loss: 0.0000e+00 - accuracy: 0.5294 - val_loss: 0.0000e+00 - val_accuracy: 0.0000e+00\n",
            "Epoch 58/100\n",
            "1/1 [==============================] - 0s 217ms/step - loss: 0.0000e+00 - accuracy: 0.5294 - val_loss: 0.0000e+00 - val_accuracy: 0.0000e+00\n",
            "Epoch 59/100\n",
            "1/1 [==============================] - 0s 216ms/step - loss: 0.0000e+00 - accuracy: 0.5294 - val_loss: 0.0000e+00 - val_accuracy: 0.0000e+00\n",
            "Epoch 60/100\n",
            "1/1 [==============================] - 0s 222ms/step - loss: 0.0000e+00 - accuracy: 0.5294 - val_loss: 0.0000e+00 - val_accuracy: 0.0000e+00\n",
            "Epoch 61/100\n",
            "1/1 [==============================] - 0s 214ms/step - loss: 0.0000e+00 - accuracy: 0.5294 - val_loss: 0.0000e+00 - val_accuracy: 0.0000e+00\n",
            "Epoch 62/100\n",
            "1/1 [==============================] - 0s 217ms/step - loss: 0.0000e+00 - accuracy: 0.5294 - val_loss: 0.0000e+00 - val_accuracy: 0.0000e+00\n",
            "Epoch 63/100\n",
            "1/1 [==============================] - 0s 240ms/step - loss: 0.0000e+00 - accuracy: 0.5294 - val_loss: 0.0000e+00 - val_accuracy: 0.0000e+00\n",
            "Epoch 64/100\n",
            "1/1 [==============================] - 0s 220ms/step - loss: 0.0000e+00 - accuracy: 0.5294 - val_loss: 0.0000e+00 - val_accuracy: 0.0000e+00\n",
            "Epoch 65/100\n",
            "1/1 [==============================] - 0s 213ms/step - loss: 0.0000e+00 - accuracy: 0.5294 - val_loss: 0.0000e+00 - val_accuracy: 0.0000e+00\n",
            "Epoch 66/100\n",
            "1/1 [==============================] - 0s 211ms/step - loss: 0.0000e+00 - accuracy: 0.5294 - val_loss: 0.0000e+00 - val_accuracy: 0.0000e+00\n",
            "Epoch 67/100\n",
            "1/1 [==============================] - 0s 227ms/step - loss: 0.0000e+00 - accuracy: 0.5294 - val_loss: 0.0000e+00 - val_accuracy: 0.0000e+00\n",
            "Epoch 68/100\n",
            "1/1 [==============================] - 0s 216ms/step - loss: 0.0000e+00 - accuracy: 0.5294 - val_loss: 0.0000e+00 - val_accuracy: 0.0000e+00\n",
            "Epoch 69/100\n",
            "1/1 [==============================] - 0s 223ms/step - loss: 0.0000e+00 - accuracy: 0.5294 - val_loss: 0.0000e+00 - val_accuracy: 0.0000e+00\n",
            "Epoch 70/100\n",
            "1/1 [==============================] - 0s 208ms/step - loss: 0.0000e+00 - accuracy: 0.5294 - val_loss: 0.0000e+00 - val_accuracy: 0.0000e+00\n",
            "Epoch 71/100\n",
            "1/1 [==============================] - 0s 220ms/step - loss: 0.0000e+00 - accuracy: 0.5294 - val_loss: 0.0000e+00 - val_accuracy: 0.0000e+00\n",
            "Epoch 72/100\n",
            "1/1 [==============================] - 0s 228ms/step - loss: 0.0000e+00 - accuracy: 0.5294 - val_loss: 0.0000e+00 - val_accuracy: 0.0000e+00\n",
            "Epoch 73/100\n",
            "1/1 [==============================] - 0s 219ms/step - loss: 0.0000e+00 - accuracy: 0.5294 - val_loss: 0.0000e+00 - val_accuracy: 0.0000e+00\n",
            "Epoch 74/100\n",
            "1/1 [==============================] - 0s 221ms/step - loss: 0.0000e+00 - accuracy: 0.5294 - val_loss: 0.0000e+00 - val_accuracy: 0.0000e+00\n",
            "Epoch 75/100\n",
            "1/1 [==============================] - 0s 218ms/step - loss: 0.0000e+00 - accuracy: 0.5294 - val_loss: 0.0000e+00 - val_accuracy: 0.0000e+00\n",
            "Epoch 76/100\n",
            "1/1 [==============================] - 0s 223ms/step - loss: 0.0000e+00 - accuracy: 0.5294 - val_loss: 0.0000e+00 - val_accuracy: 0.0000e+00\n",
            "Epoch 77/100\n",
            "1/1 [==============================] - 0s 213ms/step - loss: 0.0000e+00 - accuracy: 0.5294 - val_loss: 0.0000e+00 - val_accuracy: 0.0000e+00\n",
            "Epoch 78/100\n",
            "1/1 [==============================] - 0s 325ms/step - loss: 0.0000e+00 - accuracy: 0.5294 - val_loss: 0.0000e+00 - val_accuracy: 0.0000e+00\n",
            "Epoch 79/100\n",
            "1/1 [==============================] - 0s 344ms/step - loss: 0.0000e+00 - accuracy: 0.5294 - val_loss: 0.0000e+00 - val_accuracy: 0.0000e+00\n",
            "Epoch 80/100\n",
            "1/1 [==============================] - 0s 342ms/step - loss: 0.0000e+00 - accuracy: 0.5294 - val_loss: 0.0000e+00 - val_accuracy: 0.0000e+00\n",
            "Epoch 81/100\n",
            "1/1 [==============================] - 0s 335ms/step - loss: 0.0000e+00 - accuracy: 0.5294 - val_loss: 0.0000e+00 - val_accuracy: 0.0000e+00\n",
            "Epoch 82/100\n",
            "1/1 [==============================] - 0s 335ms/step - loss: 0.0000e+00 - accuracy: 0.5294 - val_loss: 0.0000e+00 - val_accuracy: 0.0000e+00\n",
            "Epoch 83/100\n",
            "1/1 [==============================] - 0s 321ms/step - loss: 0.0000e+00 - accuracy: 0.5294 - val_loss: 0.0000e+00 - val_accuracy: 0.0000e+00\n",
            "Epoch 84/100\n",
            "1/1 [==============================] - 0s 322ms/step - loss: 0.0000e+00 - accuracy: 0.5294 - val_loss: 0.0000e+00 - val_accuracy: 0.0000e+00\n",
            "Epoch 85/100\n",
            "1/1 [==============================] - 0s 229ms/step - loss: 0.0000e+00 - accuracy: 0.5294 - val_loss: 0.0000e+00 - val_accuracy: 0.0000e+00\n",
            "Epoch 86/100\n",
            "1/1 [==============================] - 0s 219ms/step - loss: 0.0000e+00 - accuracy: 0.5294 - val_loss: 0.0000e+00 - val_accuracy: 0.0000e+00\n",
            "Epoch 87/100\n",
            "1/1 [==============================] - 0s 221ms/step - loss: 0.0000e+00 - accuracy: 0.5294 - val_loss: 0.0000e+00 - val_accuracy: 0.0000e+00\n",
            "Epoch 88/100\n",
            "1/1 [==============================] - 0s 217ms/step - loss: 0.0000e+00 - accuracy: 0.5294 - val_loss: 0.0000e+00 - val_accuracy: 0.0000e+00\n",
            "Epoch 89/100\n",
            "1/1 [==============================] - 0s 214ms/step - loss: 0.0000e+00 - accuracy: 0.5294 - val_loss: 0.0000e+00 - val_accuracy: 0.0000e+00\n",
            "Epoch 90/100\n",
            "1/1 [==============================] - 0s 227ms/step - loss: 0.0000e+00 - accuracy: 0.5294 - val_loss: 0.0000e+00 - val_accuracy: 0.0000e+00\n",
            "Epoch 91/100\n",
            "1/1 [==============================] - 0s 219ms/step - loss: 0.0000e+00 - accuracy: 0.5294 - val_loss: 0.0000e+00 - val_accuracy: 0.0000e+00\n",
            "Epoch 92/100\n",
            "1/1 [==============================] - 0s 222ms/step - loss: 0.0000e+00 - accuracy: 0.5294 - val_loss: 0.0000e+00 - val_accuracy: 0.0000e+00\n",
            "Epoch 93/100\n",
            "1/1 [==============================] - 0s 219ms/step - loss: 0.0000e+00 - accuracy: 0.5294 - val_loss: 0.0000e+00 - val_accuracy: 0.0000e+00\n",
            "Epoch 94/100\n",
            "1/1 [==============================] - 0s 217ms/step - loss: 0.0000e+00 - accuracy: 0.5294 - val_loss: 0.0000e+00 - val_accuracy: 0.0000e+00\n",
            "Epoch 95/100\n",
            "1/1 [==============================] - 0s 214ms/step - loss: 0.0000e+00 - accuracy: 0.5294 - val_loss: 0.0000e+00 - val_accuracy: 0.0000e+00\n",
            "Epoch 96/100\n",
            "1/1 [==============================] - 0s 216ms/step - loss: 0.0000e+00 - accuracy: 0.5294 - val_loss: 0.0000e+00 - val_accuracy: 0.0000e+00\n",
            "Epoch 97/100\n",
            "1/1 [==============================] - 0s 219ms/step - loss: 0.0000e+00 - accuracy: 0.5294 - val_loss: 0.0000e+00 - val_accuracy: 0.0000e+00\n",
            "Epoch 98/100\n",
            "1/1 [==============================] - 0s 222ms/step - loss: 0.0000e+00 - accuracy: 0.5294 - val_loss: 0.0000e+00 - val_accuracy: 0.0000e+00\n",
            "Epoch 99/100\n",
            "1/1 [==============================] - 0s 218ms/step - loss: 0.0000e+00 - accuracy: 0.5294 - val_loss: 0.0000e+00 - val_accuracy: 0.0000e+00\n",
            "Epoch 100/100\n",
            "1/1 [==============================] - 0s 215ms/step - loss: 0.0000e+00 - accuracy: 0.5294 - val_loss: 0.0000e+00 - val_accuracy: 0.0000e+00\n"
          ]
        }
      ]
    },
    {
      "cell_type": "code",
      "source": [
        "import matplotlib.pyplot as plt \n",
        "\n",
        "plt.plot(history.history['accuracy'],color='red',label='train')\n",
        "plt.plot(history.history['val_accuracy'],color='blue',label='validation')\n",
        "plt.legend()\n",
        "plt.show()\n"
      ],
      "metadata": {
        "colab": {
          "base_uri": "https://localhost:8080/",
          "height": 430
        },
        "id": "PUGPefymAf1A",
        "outputId": "1dcf43ca-9878-4b4b-f944-e93eb4dab0a8"
      },
      "execution_count": 21,
      "outputs": [
        {
          "output_type": "display_data",
          "data": {
            "text/plain": [
              "<Figure size 640x480 with 1 Axes>"
            ],
            "image/png": "[encoded data removed]"
          },
          "metadata": {}
        }
      ]
    },
    {
      "cell_type": "code",
      "source": [
        "plt.plot(history.history['loss'],color='red',label='train')\n",
        "plt.plot(history.history['val_loss'],color='blue',label='validation')\n",
        "plt.legend()\n",
        "plt.show()\n"
      ],
      "metadata": {
        "colab": {
          "base_uri": "https://localhost:8080/",
          "height": 430
        },
        "id": "Q2fzTJlONiYq",
        "outputId": "793712d4-c429-400d-8a21-ad5076222474"
      },
      "execution_count": 22,
      "outputs": [
        {
          "output_type": "display_data",
          "data": {
            "text/plain": [
              "<Figure size 640x480 with 1 Axes>"
            ],
            "image/png": "[encoded data removed]"
          },
          "metadata": {}
        }
      ]
    },
    {
      "cell_type": "code",
      "source": [],
      "metadata": {
        "id": "Ovi4k09mPQDe"
      },
      "execution_count": null,
      "outputs": []
    }
  ]
}